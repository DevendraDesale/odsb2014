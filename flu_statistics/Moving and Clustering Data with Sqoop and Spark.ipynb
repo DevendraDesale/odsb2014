{
 "metadata": {
  "name": ""
 },
 "nbformat": 3,
 "nbformat_minor": 0,
 "worksheets": [
  {
   "cells": [
    {
     "cell_type": "code",
     "collapsed": false,
     "input": [
      "!sqoop import --connect jdbc:oracle:thin:fludb/flushot@//localhost:1521/orcl --table FLU_STATISTICS --split-by REGION --target-dir /user/oracle/flu_statistics"
     ],
     "language": "python",
     "metadata": {},
     "outputs": [
      {
       "output_type": "stream",
       "stream": "stdout",
       "text": [
        "Warning: /usr/lib/sqoop/../accumulo does not exist! Accumulo imports will fail.\r\n",
        "Please set $ACCUMULO_HOME to the root of your Accumulo installation.\r\n"
       ]
      },
      {
       "output_type": "stream",
       "stream": "stdout",
       "text": [
        "15/01/09 18:41:04 INFO sqoop.Sqoop: Running Sqoop version: 1.4.4-cdh5.1.2\r\n"
       ]
      },
      {
       "output_type": "stream",
       "stream": "stdout",
       "text": [
        "15/01/09 18:41:04 INFO manager.SqlManager: Using default fetchSize of 1000\r\n",
        "15/01/09 18:41:04 INFO tool.CodeGenTool: Beginning code generation\r\n"
       ]
      },
      {
       "output_type": "stream",
       "stream": "stdout",
       "text": [
        "15/01/09 18:41:06 INFO manager.OracleManager: Time zone has been set to GMT\r\n"
       ]
      },
      {
       "output_type": "stream",
       "stream": "stdout",
       "text": [
        "15/01/09 18:41:06 INFO manager.SqlManager: Executing SQL statement: SELECT t.* FROM FLU_STATISTICS t WHERE 1=0\r\n"
       ]
      },
      {
       "output_type": "stream",
       "stream": "stdout",
       "text": [
        "15/01/09 18:41:06 INFO orm.CompilationManager: HADOOP_MAPRED_HOME is /usr/lib/hadoop-mapreduce\r\n"
       ]
      },
      {
       "output_type": "stream",
       "stream": "stdout",
       "text": [
        "Note: /tmp/sqoop-oracle/compile/76a4bb8693ef6c8cfa395ce44fbaa0db/FLU_STATISTICS.java uses or overrides a deprecated API.\r\n",
        "Note: Recompile with -Xlint:deprecation for details.\r\n",
        "15/01/09 18:41:09 INFO orm.CompilationManager: Writing jar file: /tmp/sqoop-oracle/compile/76a4bb8693ef6c8cfa395ce44fbaa0db/FLU_STATISTICS.jar\r\n"
       ]
      },
      {
       "output_type": "stream",
       "stream": "stdout",
       "text": [
        "15/01/09 18:41:09 INFO mapreduce.ImportJobBase: Beginning import of FLU_STATISTICS\r\n"
       ]
      },
      {
       "output_type": "stream",
       "stream": "stdout",
       "text": [
        "15/01/09 18:41:09 INFO Configuration.deprecation: mapred.jar is deprecated. Instead, use mapreduce.job.jar\r\n",
        "15/01/09 18:41:09 INFO manager.OracleManager: Time zone has been set to GMT\r\n"
       ]
      },
      {
       "output_type": "stream",
       "stream": "stdout",
       "text": [
        "15/01/09 18:41:11 INFO Configuration.deprecation: mapred.map.tasks is deprecated. Instead, use mapreduce.job.maps\r\n"
       ]
      },
      {
       "output_type": "stream",
       "stream": "stdout",
       "text": [
        "15/01/09 18:41:11 INFO client.RMProxy: Connecting to ResourceManager at localhost/127.0.0.1:8032\r\n"
       ]
      },
      {
       "output_type": "stream",
       "stream": "stdout",
       "text": [
        "15/01/09 18:41:12 WARN security.UserGroupInformation: PriviledgedActionException as:oracle (auth:SIMPLE) cause:org.apache.hadoop.mapred.FileAlreadyExistsException: Output directory hdfs://bigdatalite.localdomain:8020/user/oracle/flu_statistics already exists\r\n",
        "15/01/09 18:41:12 ERROR tool.ImportTool: Encountered IOException running import job: org.apache.hadoop.mapred.FileAlreadyExistsException: Output directory hdfs://bigdatalite.localdomain:8020/user/oracle/flu_statistics already exists\r\n",
        "\tat org.apache.hadoop.mapreduce.lib.output.FileOutputFormat.checkOutputSpecs(FileOutputFormat.java:146)\r\n",
        "\tat org.apache.hadoop.mapreduce.JobSubmitter.checkSpecs(JobSubmitter.java:458)\r\n",
        "\tat org.apache.hadoop.mapreduce.JobSubmitter.submitJobInternal(JobSubmitter.java:343)\r\n",
        "\tat org.apache.hadoop.mapreduce.Job$10.run(Job.java:1295)\r\n",
        "\tat org.apache.hadoop.mapreduce.Job$10.run(Job.java:1292)\r\n",
        "\tat java.security.AccessController.doPrivileged(Native Method)\r\n",
        "\tat javax.security.auth.Subject.doAs(Subject.java:415)\r\n",
        "\tat org.apache.hadoop.security.UserGroupInformation.doAs(UserGroupInformation.java:1554)\r\n",
        "\tat org.apache.hadoop.mapreduce.Job.submit(Job.java:1292)\r\n",
        "\tat org.apache.hadoop.mapreduce.Job.waitForCompletion(Job.java:1313)\r\n",
        "\tat org.apache.sqoop.mapreduce.ImportJobBase.doSubmitJob(ImportJobBase.java:186)\r\n",
        "\tat org.apache.sqoop.mapreduce.ImportJobBase.runJob(ImportJobBase.java:159)\r\n",
        "\tat org.apache.sqoop.mapreduce.ImportJobBase.runImport(ImportJobBase.java:247)\r\n",
        "\tat org.apache.sqoop.manager.SqlManager.importTable(SqlManager.java:614)\r\n",
        "\tat org.apache.sqoop.manager.OracleManager.importTable(OracleManager.java:436)\r\n",
        "\tat org.apache.sqoop.tool.ImportTool.importTable(ImportTool.java:413)\r\n",
        "\tat org.apache.sqoop.tool.ImportTool.run(ImportTool.java:506)\r\n",
        "\tat org.apache.sqoop.Sqoop.run(Sqoop.java:147)\r\n",
        "\tat org.apache.hadoop.util.ToolRunner.run(ToolRunner.java:70)\r\n",
        "\tat org.apache.sqoop.Sqoop.runSqoop(Sqoop.java:183)\r\n",
        "\tat org.apache.sqoop.Sqoop.runTool(Sqoop.java:222)\r\n",
        "\tat org.apache.sqoop.Sqoop.runTool(Sqoop.java:231)\r\n",
        "\tat org.apache.sqoop.Sqoop.main(Sqoop.java:240)\r\n",
        "\r\n"
       ]
      }
     ],
     "prompt_number": 1
    },
    {
     "cell_type": "code",
     "collapsed": false,
     "input": [
      "from pyspark.sql import *\n",
      "sqlCtx = SQLContext(sc)"
     ],
     "language": "python",
     "metadata": {},
     "outputs": [],
     "prompt_number": 2
    },
    {
     "cell_type": "code",
     "collapsed": false,
     "input": [
      "flu_stats_text = sc.textFile(\"/user/oracle/flu_statistics\").map(lambda x: x.strip().split(\",\"))\n",
      "flu_stats_text.take(10)"
     ],
     "language": "python",
     "metadata": {},
     "outputs": [
      {
       "metadata": {},
       "output_type": "pyout",
       "prompt_number": 3,
       "text": [
        "[[u'EURO', u'Belarus', u'2013', u'52', u'0', u'0', u'0'],\n",
        " [u'EURO', u'Belgium', u'2013', u'1', u'5', u'28', u'23'],\n",
        " [u'EURO', u'Belgium', u'2013', u'2', u'16', u'44', u'28'],\n",
        " [u'EURO', u'Belgium', u'2013', u'3', u'32', u'69', u'37'],\n",
        " [u'EURO', u'Belgium', u'2013', u'4', u'44', u'93', u'49'],\n",
        " [u'EURO', u'Belgium', u'2013', u'5', u'65', u'110', u'45'],\n",
        " [u'EURO', u'Belgium', u'2013', u'6', u'40', u'97', u'57'],\n",
        " [u'EURO', u'Belgium', u'2013', u'7', u'38', u'73', u'35'],\n",
        " [u'EURO', u'Belgium', u'2013', u'8', u'19', u'45', u'26'],\n",
        " [u'EURO', u'Belgium', u'2013', u'9', u'36', u'65', u'29']]"
       ]
      }
     ],
     "prompt_number": 3
    },
    {
     "cell_type": "code",
     "collapsed": false,
     "input": [
      "flu_stats = flu_stats_text.map(lambda x: Row(region = x[0], country = x[1], year = int(x[2]), \\\n",
      "                                             week = int(x[3]), total_a = int(x[4]), total_a_and_b = int(x[5]), total_b = int(x[6])))"
     ],
     "language": "python",
     "metadata": {},
     "outputs": [],
     "prompt_number": 4
    },
    {
     "cell_type": "code",
     "collapsed": false,
     "input": [
      "flu_stats.take(10)"
     ],
     "language": "python",
     "metadata": {},
     "outputs": [
      {
       "metadata": {},
       "output_type": "pyout",
       "prompt_number": 5,
       "text": [
        "[Row(country=u'Belarus', region=u'EURO', total_a=0, total_a_and_b=0, total_b=0, week=52, year=2013),\n",
        " Row(country=u'Belgium', region=u'EURO', total_a=5, total_a_and_b=28, total_b=23, week=1, year=2013),\n",
        " Row(country=u'Belgium', region=u'EURO', total_a=16, total_a_and_b=44, total_b=28, week=2, year=2013),\n",
        " Row(country=u'Belgium', region=u'EURO', total_a=32, total_a_and_b=69, total_b=37, week=3, year=2013),\n",
        " Row(country=u'Belgium', region=u'EURO', total_a=44, total_a_and_b=93, total_b=49, week=4, year=2013),\n",
        " Row(country=u'Belgium', region=u'EURO', total_a=65, total_a_and_b=110, total_b=45, week=5, year=2013),\n",
        " Row(country=u'Belgium', region=u'EURO', total_a=40, total_a_and_b=97, total_b=57, week=6, year=2013),\n",
        " Row(country=u'Belgium', region=u'EURO', total_a=38, total_a_and_b=73, total_b=35, week=7, year=2013),\n",
        " Row(country=u'Belgium', region=u'EURO', total_a=19, total_a_and_b=45, total_b=26, week=8, year=2013),\n",
        " Row(country=u'Belgium', region=u'EURO', total_a=36, total_a_and_b=65, total_b=29, week=9, year=2013)]"
       ]
      }
     ],
     "prompt_number": 5
    },
    {
     "cell_type": "code",
     "collapsed": false,
     "input": [
      "flu_schema = sqlCtx.inferSchema(flu_stats)\n",
      "flu_schema.registerTempTable(\"flu_stats\")"
     ],
     "language": "python",
     "metadata": {},
     "outputs": [],
     "prompt_number": 6
    },
    {
     "cell_type": "code",
     "collapsed": false,
     "input": [
      "clustering_data = sqlCtx.sql(\"select country, sum(total_a) as a_sum, sum(total_b) as b_sum from flu_stats group by country\")\n",
      "clustering_data.take(10)"
     ],
     "language": "python",
     "metadata": {},
     "outputs": [
      {
       "metadata": {},
       "output_type": "pyout",
       "prompt_number": 7,
       "text": [
        "[Row(country=u'Argentina', a_sum=6321, b_sum=526),\n",
        " Row(country=u'El Salvador', a_sum=226, b_sum=3),\n",
        " Row(country=u'Costa Rica', a_sum=540, b_sum=10),\n",
        " Row(country=u'Belgium', a_sum=373, b_sum=400),\n",
        " Row(country=u'Uganda', a_sum=105, b_sum=206),\n",
        " Row(country=u'Bolivia', a_sum=748, b_sum=337),\n",
        " Row(country=u'Bosnia and Herzegovina', a_sum=100, b_sum=13),\n",
        " Row(country=u'Ecuador', a_sum=1173, b_sum=91),\n",
        " Row(country=u'Greece', a_sum=398, b_sum=19),\n",
        " Row(country=u'United States of America', a_sum=46592, b_sum=16730)]"
       ]
      }
     ],
     "prompt_number": 7
    },
    {
     "cell_type": "code",
     "collapsed": false,
     "input": [
      "from pyspark.mllib.clustering import KMeans\n",
      "from numpy import array\n",
      "from math import sqrt\n",
      "import pandas as pd\n",
      "import numpy as np"
     ],
     "language": "python",
     "metadata": {},
     "outputs": [],
     "prompt_number": 8
    },
    {
     "cell_type": "code",
     "collapsed": false,
     "input": [
      "clustering_input_pairs = clustering_data.map(lambda x: (x[0],array([float(x[1]), float(x[2])])))\n",
      "clustering_input = clustering_data.map(lambda x: array([float(x[1]), float(x[2])]))\n",
      "clustering_input_pairs.take(5)"
     ],
     "language": "python",
     "metadata": {},
     "outputs": [
      {
       "metadata": {},
       "output_type": "pyout",
       "prompt_number": 9,
       "text": [
        "[(u'Argentina', array([ 6321.,   526.])),\n",
        " (u'El Salvador', array([ 226.,    3.])),\n",
        " (u'Costa Rica', array([ 540.,   10.])),\n",
        " (u'Belgium', array([ 373.,  400.])),\n",
        " (u'Uganda', array([ 105.,  206.]))]"
       ]
      }
     ],
     "prompt_number": 9
    },
    {
     "cell_type": "code",
     "collapsed": false,
     "input": [
      "clustering_error = []\n",
      "for i in range(2,10):\n",
      "  clusters = KMeans.train(clustering_input, i, maxIterations=10, \\\n",
      "        runs=10, initializationMode=\"random\")\n",
      "  def error(point):\n",
      "    center = clusters.centers[clusters.predict(point)]\n",
      "    return sqrt(sum([x**2 for x in (point - center)]))\n",
      "  WSSSE = clustering_input.map(lambda point: error(point)).reduce(lambda x, y: x + y)\n",
      "  print(\"Within Set Sum of Squared Error = \" + str(WSSSE))\n",
      "  clustering_error.append({\"clusters\":i, \"wssse\":WSSSE})\n"
     ],
     "language": "python",
     "metadata": {},
     "outputs": [
      {
       "output_type": "stream",
       "stream": "stdout",
       "text": [
        "Within Set Sum of Squared Error = 154460.831859\n",
        "Within Set Sum of Squared Error = 112280.841588"
       ]
      },
      {
       "output_type": "stream",
       "stream": "stdout",
       "text": [
        "\n",
        "Within Set Sum of Squared Error = 83073.5309381"
       ]
      },
      {
       "output_type": "stream",
       "stream": "stdout",
       "text": [
        "\n",
        "Within Set Sum of Squared Error = 55673.3084899"
       ]
      },
      {
       "output_type": "stream",
       "stream": "stdout",
       "text": [
        "\n",
        "Within Set Sum of Squared Error = 71865.3081885"
       ]
      },
      {
       "output_type": "stream",
       "stream": "stdout",
       "text": [
        "\n",
        "Within Set Sum of Squared Error = 45649.977628"
       ]
      },
      {
       "output_type": "stream",
       "stream": "stdout",
       "text": [
        "\n",
        "Within Set Sum of Squared Error = 69174.5307141"
       ]
      },
      {
       "output_type": "stream",
       "stream": "stdout",
       "text": [
        "\n",
        "Within Set Sum of Squared Error = 38581.1149494"
       ]
      },
      {
       "output_type": "stream",
       "stream": "stdout",
       "text": [
        "\n"
       ]
      }
     ],
     "prompt_number": 10
    },
    {
     "cell_type": "code",
     "collapsed": false,
     "input": [
      "cluster_error_set = pd.DataFrame(clustering_error)\n",
      "cluster_error_set"
     ],
     "language": "python",
     "metadata": {},
     "outputs": [
      {
       "html": [
        "<div style=\"max-height:1000px;max-width:1500px;overflow:auto;\">\n",
        "<table border=\"1\" class=\"dataframe\">\n",
        "  <thead>\n",
        "    <tr style=\"text-align: right;\">\n",
        "      <th></th>\n",
        "      <th>clusters</th>\n",
        "      <th>wssse</th>\n",
        "    </tr>\n",
        "  </thead>\n",
        "  <tbody>\n",
        "    <tr>\n",
        "      <th>0</th>\n",
        "      <td> 2</td>\n",
        "      <td> 154460.831859</td>\n",
        "    </tr>\n",
        "    <tr>\n",
        "      <th>1</th>\n",
        "      <td> 3</td>\n",
        "      <td> 112280.841588</td>\n",
        "    </tr>\n",
        "    <tr>\n",
        "      <th>2</th>\n",
        "      <td> 4</td>\n",
        "      <td>  83073.530938</td>\n",
        "    </tr>\n",
        "    <tr>\n",
        "      <th>3</th>\n",
        "      <td> 5</td>\n",
        "      <td>  55673.308490</td>\n",
        "    </tr>\n",
        "    <tr>\n",
        "      <th>4</th>\n",
        "      <td> 6</td>\n",
        "      <td>  71865.308189</td>\n",
        "    </tr>\n",
        "    <tr>\n",
        "      <th>5</th>\n",
        "      <td> 7</td>\n",
        "      <td>  45649.977628</td>\n",
        "    </tr>\n",
        "    <tr>\n",
        "      <th>6</th>\n",
        "      <td> 8</td>\n",
        "      <td>  69174.530714</td>\n",
        "    </tr>\n",
        "    <tr>\n",
        "      <th>7</th>\n",
        "      <td> 9</td>\n",
        "      <td>  38581.114949</td>\n",
        "    </tr>\n",
        "  </tbody>\n",
        "</table>\n",
        "</div>"
       ],
       "metadata": {},
       "output_type": "pyout",
       "prompt_number": 11,
       "text": [
        "   clusters          wssse\n",
        "0         2  154460.831859\n",
        "1         3  112280.841588\n",
        "2         4   83073.530938\n",
        "3         5   55673.308490\n",
        "4         6   71865.308189\n",
        "5         7   45649.977628\n",
        "6         8   69174.530714\n",
        "7         9   38581.114949"
       ]
      }
     ],
     "prompt_number": 11
    },
    {
     "cell_type": "code",
     "collapsed": false,
     "input": [
      "\n",
      "%matplotlib inline\n",
      "import matplotlib as mpl\n",
      "import matplotlib.pyplot as plt\n",
      "\n",
      "cluster_error_set.plot(kind=\"line\",x=\"clusters\", y=\"wssse\", figsize=(16,12));"
     ],
     "language": "python",
     "metadata": {},
     "outputs": [
      {
       "metadata": {},
       "output_type": "display_data",
       "png": "[encoded data removed]",
       "text": [
        "<matplotlib.figure.Figure at 0x4b95790>"
       ]
      }
     ],
     "prompt_number": 12
    },
    {
     "cell_type": "code",
     "collapsed": false,
     "input": [
      "final_clusters = KMeans.train(clustering_input, 5, maxIterations=10, \\\n",
      "        runs=10, initializationMode=\"random\")"
     ],
     "language": "python",
     "metadata": {},
     "outputs": [],
     "prompt_number": 14
    },
    {
     "cell_type": "code",
     "collapsed": false,
     "input": [
      "cluster_membership = clustering_input_pairs.mapValues(lambda x: final_clusters.predict(x))\n",
      "cluster_membership.take(10)"
     ],
     "language": "python",
     "metadata": {},
     "outputs": [
      {
       "metadata": {},
       "output_type": "pyout",
       "prompt_number": 15,
       "text": [
        "[(u'Argentina', 2),\n",
        " (u'El Salvador', 0),\n",
        " (u'Costa Rica', 0),\n",
        " (u'Belgium', 0),\n",
        " (u'Uganda', 0),\n",
        " (u'Bolivia', 4),\n",
        " (u'Bosnia and Herzegovina', 0),\n",
        " (u'Ecuador', 4),\n",
        " (u'Greece', 0),\n",
        " (u'United States of America', 3)]"
       ]
      }
     ],
     "prompt_number": 15
    },
    {
     "cell_type": "code",
     "collapsed": false,
     "input": [
      "def flatten_cluster_data(r):\n",
      "    return {\"country\": r[0], \"cluster\" : r[1][0], \"A\": r[1][1][0], \"B\": r[1][1][1]}\n",
      "\n",
      "complete_cluster_data = cluster_membership.join(clustering_input_pairs).map(flatten_cluster_data)\n",
      "cluster_df = pd.DataFrame(complete_cluster_data.collect())"
     ],
     "language": "python",
     "metadata": {},
     "outputs": [],
     "prompt_number": 23
    },
    {
     "cell_type": "code",
     "collapsed": false,
     "input": [
      "cluster_df[:10]"
     ],
     "language": "python",
     "metadata": {},
     "outputs": [
      {
       "html": [
        "<div style=\"max-height:1000px;max-width:1500px;overflow:auto;\">\n",
        "<table border=\"1\" class=\"dataframe\">\n",
        "  <thead>\n",
        "    <tr style=\"text-align: right;\">\n",
        "      <th></th>\n",
        "      <th>A</th>\n",
        "      <th>B</th>\n",
        "      <th>cluster</th>\n",
        "      <th>country</th>\n",
        "    </tr>\n",
        "  </thead>\n",
        "  <tbody>\n",
        "    <tr>\n",
        "      <th>0</th>\n",
        "      <td>  364</td>\n",
        "      <td>  108</td>\n",
        "      <td> 0</td>\n",
        "      <td>      Ukraine</td>\n",
        "    </tr>\n",
        "    <tr>\n",
        "      <th>1</th>\n",
        "      <td>   17</td>\n",
        "      <td>    0</td>\n",
        "      <td> 0</td>\n",
        "      <td>   Mozambique</td>\n",
        "    </tr>\n",
        "    <tr>\n",
        "      <th>2</th>\n",
        "      <td>  801</td>\n",
        "      <td>  162</td>\n",
        "      <td> 4</td>\n",
        "      <td>         Cuba</td>\n",
        "    </tr>\n",
        "    <tr>\n",
        "      <th>3</th>\n",
        "      <td>  188</td>\n",
        "      <td>    0</td>\n",
        "      <td> 0</td>\n",
        "      <td>       Panama</td>\n",
        "    </tr>\n",
        "    <tr>\n",
        "      <th>4</th>\n",
        "      <td>  748</td>\n",
        "      <td>  337</td>\n",
        "      <td> 4</td>\n",
        "      <td>      Bolivia</td>\n",
        "    </tr>\n",
        "    <tr>\n",
        "      <th>5</th>\n",
        "      <td> 1873</td>\n",
        "      <td> 1022</td>\n",
        "      <td> 1</td>\n",
        "      <td>       Latvia</td>\n",
        "    </tr>\n",
        "    <tr>\n",
        "      <th>6</th>\n",
        "      <td>  247</td>\n",
        "      <td>  300</td>\n",
        "      <td> 0</td>\n",
        "      <td>     Slovakia</td>\n",
        "    </tr>\n",
        "    <tr>\n",
        "      <th>7</th>\n",
        "      <td> 1162</td>\n",
        "      <td>  200</td>\n",
        "      <td> 4</td>\n",
        "      <td> South Africa</td>\n",
        "    </tr>\n",
        "    <tr>\n",
        "      <th>8</th>\n",
        "      <td>  213</td>\n",
        "      <td>   90</td>\n",
        "      <td> 0</td>\n",
        "      <td>        Kenya</td>\n",
        "    </tr>\n",
        "    <tr>\n",
        "      <th>9</th>\n",
        "      <td>    5</td>\n",
        "      <td>    1</td>\n",
        "      <td> 0</td>\n",
        "      <td> Sierra Leone</td>\n",
        "    </tr>\n",
        "  </tbody>\n",
        "</table>\n",
        "</div>"
       ],
       "metadata": {},
       "output_type": "pyout",
       "prompt_number": 25,
       "text": [
        "      A     B  cluster       country\n",
        "0   364   108        0       Ukraine\n",
        "1    17     0        0    Mozambique\n",
        "2   801   162        4          Cuba\n",
        "3   188     0        0        Panama\n",
        "4   748   337        4       Bolivia\n",
        "5  1873  1022        1        Latvia\n",
        "6   247   300        0      Slovakia\n",
        "7  1162   200        4  South Africa\n",
        "8   213    90        0         Kenya\n",
        "9     5     1        0  Sierra Leone"
       ]
      }
     ],
     "prompt_number": 25
    },
    {
     "cell_type": "code",
     "collapsed": false,
     "input": [
      "colors = [\"DarkBlue\", \"DarkGreen\", \"DarkRed\", \"DarkOrange\", \"DarkCyan\"]\n",
      "fig, ax = plt.subplots(nrows=1, ncols=1, figsize=(16,12));\n",
      "grouped = cluster_df.groupby(['cluster'])\n",
      "for name, group in grouped:\n",
      "    group.plot(x=\"A\",y=\"B\", kind=\"scatter\", color=colors[name], ax=ax)\n",
      "    \n",
      "for r in cluster_df.iterrows():\n",
      "    row = r[1]\n",
      "    if row['cluster'] in [3,2]:\n",
      "        ax.annotate(row['country'], xy=(row['A'], row['B']))"
     ],
     "language": "python",
     "metadata": {},
     "outputs": [
      {
       "metadata": {},
       "output_type": "display_data",
       "png": "[encoded data removed]",
       "text": [
        "<matplotlib.figure.Figure at 0x4f146d0>"
       ]
      }
     ],
     "prompt_number": 55
    },
    {
     "cell_type": "code",
     "collapsed": false,
     "input": [],
     "language": "python",
     "metadata": {},
     "outputs": []
    }
   ],
   "metadata": {}
  }
 ]
}