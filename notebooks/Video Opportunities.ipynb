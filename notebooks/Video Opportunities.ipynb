{
 "metadata": {
  "name": "",
  "signature": "sha256:41130e707c71b383f6e2382d25856ef6d1dc44455e0d4a57e88d147b60a2844e"
 },
 "nbformat": 3,
 "nbformat_minor": 0,
 "worksheets": [
  {
   "cells": [
    {
     "cell_type": "heading",
     "level": 2,
     "metadata": {},
     "source": [
      "Video Opportunities: each notebook 10-20 min of video"
     ]
    },
    {
     "cell_type": "markdown",
     "metadata": {},
     "source": [
      "Introduction:\n",
      "\n",
      "    - purpose of the course\n",
      "    - summary of the story we'll tell\n",
      "    - what we're doing, why, and how\n",
      "    \n",
      "   * we need to think carefully about defining an overarching question that will guide our course"
     ]
    },
    {
     "cell_type": "markdown",
     "metadata": {},
     "source": [
      "Part I: Loading Data\n",
      "\n",
      "    Q: What kind of data are we looking for?\n",
      "    A: Flu statistics. Who is getting the flu, where, when and what kind?\n",
      "    \n",
      "    Q: Where might we find this data?\n",
      "    A: CDC, WHO, HHS, OIE\n",
      "    \n",
      "Notebook 1: Loading and Sharing Simple CSV Data\n",
      "    - What data is in this file?\n",
      "        -- mappings of states to their populations and flu surveillance regions, ????\n",
      "    - How do we plan on using this data?\n",
      "    - Overview of loading a CSV file\n",
      "        -- what's the file type? what tools?\n",
      "        -- process overview: import, parse file, convert, write to DB\n",
      "    - Putting stuff into the DB (cursors, tables, etc.)\n",
      "   \n",
      "Notebook 2: Loading Simple Delimited Data\n",
      "    - What data is in this file?\n",
      "            -- country-level data for influenza surveillance: what  strain, how many samples, etc.\n",
      "    - How are we going to split this data?\n",
      "    - What does it mean to put the data into tables in the DB?\n",
      "    - What's a view?\n",
      "\n",
      "Notebook 3: Loading HHS Flu Vaccination JSON Data\n",
      "    - What data is in this file?\n",
      "    - What is JSON? Why do people use it?\n",
      "\n",
      "Notebook 4: Gathering OIE Pathogenic Flu Data from the Web\n",
      "    - What data is in this file?\n",
      "        -- pathogenic straings of influenza in animals\n",
      "    - Pythonic tools --> what are they? why?\n",
      "    - Extracting useful data from HTML pages\n",
      "    - Dealing with inconsistencies in the data\n",
      "\n",
      "   * are we interested in combining these first few notebooks into one video since they are simpler in content?\n",
      "   \n"
     ]
    },
    {
     "cell_type": "markdown",
     "metadata": {},
     "source": [
      "Part II: Analyzing and Visualizing Data with Databases\n",
      "\n",
      "    Q: Now that we have some data, what's our next step?\n",
      "    A: One next step is to use our data to give visual answers to our questions. In this next part, we'll ask four broad questions about the flu and use different data visualization tools to test hypotheses, and then visualize the results.\n",
      "    \n",
      "Notebook 1: Does Ethnicity Impact Vaccination Rates?\n",
      "    - What is hypothesis testing? Overview of formulating a testable hypothesis\n",
      "    - T-tests (**** Is this one or two tailed?)\n",
      "    - Conclusions --> only group that did not differ is African-American vs. Hispanic (**** Do we want to speculate on more conclusions about this?)\n",
      "    \n",
      "Notebook 2: Does GDP explain flu rates?\n",
      "\n",
      "   "
     ]
    }
   ],
   "metadata": {}
  }
 ]
}