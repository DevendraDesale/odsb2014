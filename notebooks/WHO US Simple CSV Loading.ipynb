{
 "metadata": {
  "name": "",
  "signature": "sha256:d48ee330d31bd89a1d9a6618b4ec0ae255df9f196a5935716a4aa2a2e15b8dd8"
 },
 "nbformat": 3,
 "nbformat_minor": 0,
 "worksheets": [
  {
   "cells": [
    {
     "cell_type": "heading",
     "level": 1,
     "metadata": {},
     "source": [
      "Loading and Sharing Simple CSV Data"
     ]
    },
    {
     "cell_type": "markdown",
     "metadata": {},
     "source": [
      "Sometimes we get lucky with the datasets we find: they're formatted just right, and in a format everyone can read.  The most common of these would be a CSV or delimited-text file.  All the columns are present on each row, delimited by the same character: all we need to do is parse and load the file.  The [Centers for Disease Control](http://www.cdc.gov/flu/weekly/fluviewinteractive.htm) provides a way to download just this kind of read-to-consume data about flu rates in the US.\n",
      "\n",
      "There are lots of tools to do this with most databases.  Oracle provides `SQL*Loader` as well as external table capabilities for this.  MySQL can use the `LOAD DATA INFILE` directive to quickly load CSV data.  However, we're going to use Python to illustrate how we can quickly connect this analysis-ready scripting languge to our database.\n",
      "\n",
      "We'll focus on cx-Oracle, a python module designed to connect to Oracle database."
     ]
    },
    {
     "cell_type": "code",
     "collapsed": false,
     "input": [
      "import sys\n",
      "import cx_Oracle\n",
      "import pprint\n",
      "import re\n",
      "import string"
     ],
     "language": "python",
     "metadata": {},
     "outputs": [],
     "prompt_number": 1
    },
    {
     "cell_type": "markdown",
     "metadata": {},
     "source": [
      "Since the data is delimited by commas, parsing out the data we want is simple.  We'll put it in a function for later use."
     ]
    },
    {
     "cell_type": "code",
     "collapsed": false,
     "input": [
      "def parseWHOFile(filename):\n",
      "  raw = map(lambda x: x.strip().split(\",\"),open(filename).readlines())\n",
      "  data = raw[1:]\n",
      "  return data"
     ],
     "language": "python",
     "metadata": {},
     "outputs": [],
     "prompt_number": 2
    },
    {
     "cell_type": "markdown",
     "metadata": {},
     "source": [
      "Our data isn't all strings or numbers, so we'll have to write a quick function to type-convert the rows.  We'll write the function to handle a single row, then rely on python's map operator to convert the whole dataset at once. "
     ]
    },
    {
     "cell_type": "code",
     "collapsed": false,
     "input": [
      "def columns_to_type(row):\n",
      "  try:\n",
      "    for i in range(len(row)):\n",
      "      if (i > 1 and i != 5):\n",
      "        row[i] = int(row[i])\n",
      "      if (i == 5):\n",
      "        row[i] = float(row[i])\n",
      "    return tuple(row[1:])\n",
      "  except:\n",
      "    return tuple()"
     ],
     "language": "python",
     "metadata": {},
     "outputs": [],
     "prompt_number": 3
    },
    {
     "cell_type": "markdown",
     "metadata": {},
     "source": [
      "*write_to_db* is the most interesting part of our work.  We're going to need to create a table in Oracle 12c and then fill it with rows.  We do this by passing SQL language statements through cx-Oracle to the database.  Notice we create a **cursor** in the method.  A cursor is the structure which allows us to traverse over records in a database and execute commands.  Any time we use cx-Oracle, we'll create a cursor.\n",
      "\n",
      "Once we have a cursor, we execute a few statements\n",
      "\n",
      "* We drop US_WHO_FLU_STATS to make sure there's no stale data\n",
      "* We create the US_WHO_FLU_STATS table, whcih tracks statistics for census regions of the US\n",
      "* We insert our dataset into the table using the `executemany` statement\n",
      "* We save our work to the database by calling `db.commit`"
     ]
    },
    {
     "cell_type": "code",
     "collapsed": false,
     "input": [
      "def write_to_db(db, data):\n",
      "  create_table = \"\"\"CREATE TABLE US_WHO_FLU_STATS (\n",
      "      REGION VARCHAR2(50),\n",
      "      YEAR NUMBER(10,0),\n",
      "      WEEK NUMBER(10,0),\n",
      "      TOTAL_SPECIMENS NUMBER(10,0),\n",
      "      PERCENT_POSITIVE NUMBER,\n",
      "      A_H1 NUMBER(10,0),\n",
      "      A_NO_SUBTYPE NUMBER(10,0),\n",
      "      A_H3 NUMBER(10,0),\n",
      "      H1N1 NUMBER(10,0),\n",
      "      A_TOTAL NUMBER(10,0),\n",
      "      B NUMBER(10,0),\n",
      "      H3N2v NUMBER(10,0))\"\"\"\n",
      "  rows_to_insert = filter(lambda x: len(x)> 0, map(columns_to_type, data))\n",
      "  cursor = db.cursor()\n",
      "  try:\n",
      "    cursor.execute(\"drop table us_who_flu_stats\")\n",
      "  except Exception:\n",
      "    pass\n",
      "  cursor.execute(create_table)\n",
      "  try:\n",
      "    cursor.prepare(\"\"\"INSERT INTO US_WHO_FLU_STATS (\n",
      "          REGION, YEAR, WEEK, TOTAL_SPECIMENS,\n",
      "          PERCENT_POSITIVE, A_H1, A_NO_SUBTYPE,\n",
      "          A_H3, H1N1, A_TOTAL, B, H3N2v) VALUES \n",
      "          (:1, :2, :3, :4, :5, :6, :7, :8, :9, :10, :11, :12)\"\"\")\n",
      "    cursor.executemany(None, rows_to_insert)\n",
      "    db.commit()\n",
      "  except Exception as e:\n",
      "    print e\n"
     ],
     "language": "python",
     "metadata": {},
     "outputs": [],
     "prompt_number": 4
    },
    {
     "cell_type": "markdown",
     "metadata": {},
     "source": [
      "With all of our methods complete, parsing the data is as simple as parsing the file and passing the results to our writer function."
     ]
    },
    {
     "cell_type": "code",
     "collapsed": false,
     "input": [
      "db = cx_Oracle.connect('fludb', 'flushot', 'localhost:1521/orcl')"
     ],
     "language": "python",
     "metadata": {},
     "outputs": [],
     "prompt_number": 2
    },
    {
     "cell_type": "code",
     "collapsed": false,
     "input": [
      "print \"parsing datasets...\"\n",
      "datasets = parseWHOFile('../flu_statistics/data/WHO_NREVSS.csv')\n",
      "print \"writing to DB...\"\n",
      "write_to_db(db, datasets)\n"
     ],
     "language": "python",
     "metadata": {},
     "outputs": []
    },
    {
     "cell_type": "markdown",
     "metadata": {},
     "source": [
      "We have another CSV file which might help us.  It contains mappings of states to their populations and flu surveillance regions.  Let's load it in a similar fashion."
     ]
    },
    {
     "cell_type": "code",
     "collapsed": false,
     "input": [
      "state_mappings = map(lambda x: x.strip().split(\",\"), open(\"../flu_statistics/state_populations.csv\").readlines())\n",
      "header = state_mappings[0]\n",
      "state_data = map(lambda x: tuple(x), state_mappings[1:])\n",
      "state_data[:10]"
     ],
     "language": "python",
     "metadata": {},
     "outputs": [
      {
       "metadata": {},
       "output_type": "pyout",
       "prompt_number": 3,
       "text": [
        "[('Alabama', 'AL', 'East South Central', '4779736'),\n",
        " ('Alaska', 'AK', 'Pacific', '710231'),\n",
        " ('Arizona', 'AZ', 'Mountain', '6392017'),\n",
        " ('Arkansas', 'AR', 'West South Central', '2915918'),\n",
        " ('California', 'CA', 'Pacific', '37253956'),\n",
        " ('Colorado', 'CO', 'Mountain', '5029196'),\n",
        " ('Connecticut', 'CT', 'New England', '3574097'),\n",
        " ('Delaware', 'DE', 'South Atlantic', '897934'),\n",
        " ('Florida', 'FL', 'South Atlantic', '18801310'),\n",
        " ('Georgia', 'GA', 'South Atlantic', '9687653')]"
       ]
      }
     ],
     "prompt_number": 3
    },
    {
     "cell_type": "code",
     "collapsed": false,
     "input": [
      "create_state_table = \"\"\"CREATE TABLE state_stats(\n",
      "  state_name varchar2(26),\n",
      "  state varchar2(2),\n",
      "  region_name varchar2(26),\n",
      "  population number,\n",
      "  primary key (state)\n",
      "  )\"\"\"\n",
      "cursor = db.cursor()\n",
      "cursor.execute(create_state_table)"
     ],
     "language": "python",
     "metadata": {},
     "outputs": [
      {
       "ename": "DatabaseError",
       "evalue": "ORA-00955: name is already used by an existing object\n",
       "output_type": "pyerr",
       "traceback": [
        "\u001b[1;31m---------------------------------------------------------------------------\u001b[0m\n\u001b[1;31mDatabaseError\u001b[0m                             Traceback (most recent call last)",
        "\u001b[1;32m<ipython-input-4-436155a3825a>\u001b[0m in \u001b[0;36m<module>\u001b[1;34m()\u001b[0m\n\u001b[0;32m      7\u001b[0m   )\"\"\"\n\u001b[0;32m      8\u001b[0m \u001b[0mcursor\u001b[0m \u001b[1;33m=\u001b[0m \u001b[0mdb\u001b[0m\u001b[1;33m.\u001b[0m\u001b[0mcursor\u001b[0m\u001b[1;33m(\u001b[0m\u001b[1;33m)\u001b[0m\u001b[1;33m\u001b[0m\u001b[0m\n\u001b[1;32m----> 9\u001b[1;33m \u001b[0mcursor\u001b[0m\u001b[1;33m.\u001b[0m\u001b[0mexecute\u001b[0m\u001b[1;33m(\u001b[0m\u001b[0mcreate_state_table\u001b[0m\u001b[1;33m)\u001b[0m\u001b[1;33m\u001b[0m\u001b[0m\n\u001b[0m",
        "\u001b[1;31mDatabaseError\u001b[0m: ORA-00955: name is already used by an existing object\n"
       ]
      }
     ],
     "prompt_number": 4
    },
    {
     "cell_type": "code",
     "collapsed": false,
     "input": [
      "cursor.prepare(\"INSERT INTO state_stats (state_name, state, region_name, population) values (:1, :2, :3, :4)\")\n",
      "cursor.executemany(None, state_data)\n"
     ],
     "language": "python",
     "metadata": {},
     "outputs": [],
     "prompt_number": 16
    },
    {
     "cell_type": "code",
     "collapsed": false,
     "input": [
      "db.commit()"
     ],
     "language": "python",
     "metadata": {},
     "outputs": [],
     "prompt_number": 17
    }
   ],
   "metadata": {}
  }
 ]
}