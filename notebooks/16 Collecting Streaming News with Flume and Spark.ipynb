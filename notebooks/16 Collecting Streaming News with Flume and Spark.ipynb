{
 "metadata": {
  "name": ""
 },
 "nbformat": 3,
 "nbformat_minor": 0,
 "worksheets": [
  {
   "cells": [
    {
     "cell_type": "heading",
     "level": 1,
     "metadata": {},
     "source": [
      "Collecting Streaming News with Flume and Spark Streaming"
     ]
    },
    {
     "cell_type": "markdown",
     "metadata": {},
     "source": [
      "We've looked at historical news data to learn about the flu, but how do we keep up with news that's happening in real time?  We need a solution that can search for news about the flu in a *stream* of data.\n",
      "\n",
      "In this exercise, we're going to do exactly that.  We'll build an end-to-end stream processing system which reads from the [Reuters](http://www.reuters.com) news wire, looks for information about the flu, and saves any it finds.  This will involve a number of our Big Data tools.\n",
      "\n",
      "* First, we'll look at how to collect RSS data in python.  This will be the source of our news stream.\n",
      "* Second, we'll connect the python code to [Apache Flume](http://flume.apache.org/).  Flume is a powerful, distributed data transfer system which is simple to set up.\n",
      "* Third, we'll use [Spark Streaming](http://spark.apache.org/streaming/) to build a Spark application which can process incoming data in real time.\n",
      "\n",
      "You can find the complete source for this example in the repository under `flu_news/news_streaming`"
     ]
    },
    {
     "cell_type": "heading",
     "level": 2,
     "metadata": {},
     "source": [
      "Collecting RSS Data with Python"
     ]
    },
    {
     "cell_type": "markdown",
     "metadata": {},
     "source": [
      "Collecting RSS data from Reuters is probably the simplest part of our task.  The `feedparser` library can pull down most RSS feads.  A feed consists of several entries, each of which contains several keys."
     ]
    },
    {
     "cell_type": "code",
     "collapsed": false,
     "input": [
      "import feedparser\n",
      "from bs4 import BeautifulSoup\n",
      "import json"
     ],
     "language": "python",
     "metadata": {},
     "outputs": [],
     "prompt_number": 50
    },
    {
     "cell_type": "code",
     "collapsed": false,
     "input": [
      "d = feedparser.parse(\"http://feeds.reuters.com/reuters/topNews\")\n",
      "print d.entries[0].keys()"
     ],
     "language": "python",
     "metadata": {},
     "outputs": [
      {
       "output_type": "stream",
       "stream": "stdout",
       "text": [
        "['summary_detail', 'published_parsed', 'links', 'title', 'feedburner_origlink', 'tags', 'summary', 'guidislink', 'title_detail', 'link', 'published', 'id']\n"
       ]
      }
     ],
     "prompt_number": 45
    },
    {
     "cell_type": "markdown",
     "metadata": {},
     "source": [
      "Of the keys, the title and summary are perhaps the most interesting.  The title is straightforward.  The summary, however, is HTML.  Fortunately, we can use BeautifulSoup to extract the text from HTML very quickly."
     ]
    },
    {
     "cell_type": "code",
     "collapsed": false,
     "input": [
      "print \"title\", d.entries[0].title\n",
      "print \"summary\", d.entries[0].summary"
     ],
     "language": "python",
     "metadata": {},
     "outputs": [
      {
       "output_type": "stream",
       "stream": "stdout",
       "text": [
        "title Ukraine's Yanukovich wanted for embezzlement: Interpol\n",
        "summary KIEV (Reuters) - Interpol has put ousted Ukrainian president Viktor Yanukovich and two members of his former government on the international wanted list at the behest of Ukraine, according to a notice on its website on Monday.<img border=\"0\" height=\"1\" src=\"http://reuters.us.feedsportal.com/c/35217/f/654200/s/423be9ca/sc/36/mf.gif\" width=\"1\" /><br clear=\"all\" /><br /><br /><a href=\"http://da.feedsportal.com/r/218610520843/u/49/f/654200/c/35217/s/423be9ca/sc/36/rc/1/rc.htm\" rel=\"nofollow\"><img border=\"0\" src=\"http://da.feedsportal.com/r/218610520843/u/49/f/654200/c/35217/s/423be9ca/sc/36/rc/1/rc.img\" /></a><br /><a href=\"http://da.feedsportal.com/r/218610520843/u/49/f/654200/c/35217/s/423be9ca/sc/36/rc/2/rc.htm\" rel=\"nofollow\"><img border=\"0\" src=\"http://da.feedsportal.com/r/218610520843/u/49/f/654200/c/35217/s/423be9ca/sc/36/rc/2/rc.img\" /></a><br /><a href=\"http://da.feedsportal.com/r/218610520843/u/49/f/654200/c/35217/s/423be9ca/sc/36/rc/3/rc.htm\" rel=\"nofollow\"><img border=\"0\" src=\"http://da.feedsportal.com/r/218610520843/u/49/f/654200/c/35217/s/423be9ca/sc/36/rc/3/rc.img\" /></a><br /><br /><a href=\"http://da.feedsportal.com/r/218610520843/u/49/f/654200/c/35217/s/423be9ca/sc/36/a2.htm\"><img border=\"0\" src=\"http://da.feedsportal.com/r/218610520843/u/49/f/654200/c/35217/s/423be9ca/sc/36/a2.img\" /></a><img border=\"0\" height=\"1\" src=\"http://pi.feedsportal.com/r/218610520843/u/49/f/654200/c/35217/s/423be9ca/sc/36/a2t.img\" width=\"1\" /><div class=\"feedflare\">\n",
        "<a href=\"http://feeds.reuters.com/~ff/reuters/topNews?a=pe_Wi3KHurA:bb0Ncx_qaQc:yIl2AUoC8zA\"><img border=\"0\" src=\"http://feeds.feedburner.com/~ff/reuters/topNews?d=yIl2AUoC8zA\" /></a> <a href=\"http://feeds.reuters.com/~ff/reuters/topNews?a=pe_Wi3KHurA:bb0Ncx_qaQc:V_sGLiPBpWU\"><img border=\"0\" src=\"http://feeds.feedburner.com/~ff/reuters/topNews?i=pe_Wi3KHurA:bb0Ncx_qaQc:V_sGLiPBpWU\" /></a> <a href=\"http://feeds.reuters.com/~ff/reuters/topNews?a=pe_Wi3KHurA:bb0Ncx_qaQc:-BTjWOF_DHI\"><img border=\"0\" src=\"http://feeds.feedburner.com/~ff/reuters/topNews?i=pe_Wi3KHurA:bb0Ncx_qaQc:-BTjWOF_DHI\" /></a>\n",
        "</div><img alt=\"\" height=\"1\" src=\"http://feeds.feedburner.com/~r/reuters/topNews/~4/pe_Wi3KHurA\" width=\"1\" />\n"
       ]
      }
     ],
     "prompt_number": 47
    },
    {
     "cell_type": "markdown",
     "metadata": {},
     "source": [
      "Flu news could come from a number of different wires, so we'll have to check many of them.  Let's consider the feeds for top news, health, healthcare, and science.\n",
      "\n",
      "For each of these feeds, we need to keep track of `etags`.  E-Tag data ensures that we don't retrieve data from the news feed when there's no new news -- think of it as a \"high-water mark\" for news we've seen."
     ]
    },
    {
     "cell_type": "code",
     "collapsed": false,
     "input": [
      "urls = {\"top_news\":\"http://feeds.reuters.com/reuters/topNews\", \"health\": \"http://feeds.reuters.com/reuters/healthNews\", \\\n",
      "        \"healthcare\":\"http://feeds.reuters.com/reuters/UShealthcareNews\", \\\n",
      "        \"science\":\"http://feeds.reuters.com/reuters/scienceNews\"}\n",
      "\n",
      "etags = {\"top_news\": None, \"health\": None, \"healthcare\": None, \"science\": None}"
     ],
     "language": "python",
     "metadata": {},
     "outputs": [],
     "prompt_number": 26
    },
    {
     "cell_type": "markdown",
     "metadata": {},
     "source": [
      "From here, it's a simple exercise to loop through the feeds and parse the data.  We'll ouput the data to standard output (that is, we'll `print` it) in JSON format for our Spark application to later process."
     ]
    },
    {
     "cell_type": "code",
     "collapsed": false,
     "input": [
      "for k, v in urls.items():\n",
      "    d = feedparser.parse(v)\n",
      "    for e in d.entries:\n",
      "        doc = json.dumps({\"category\":k, \"title\":e.title.strip(), \"summary\":BeautifulSoup(e.summary).text.strip()})\n",
      "        print doc\n",
      "    etags[k] = d.etag"
     ],
     "language": "python",
     "metadata": {},
     "outputs": [
      {
       "output_type": "stream",
       "stream": "stdout",
       "text": [
        "{\"category\": \"science\", \"summary\": \"CAPE CANAVERAL, Fla. (Reuters) - A SpaceX Dragon capsule wrapped up a two-day journey to the International Space Station on Monday, the first U.S. cargo run to the orbital outpost in four months, a NASA TV broadcast showed.\", \"title\": \"SpaceX cargo capsule reaches International Space Station\"}\n",
        "{\"category\": \"science\", \"summary\": \"(Reuters) - Scotland has its very own prehistoric marine reptile - and, no, we're not talking about Nessie, the mythic Loch Ness monster.\", \"title\": \"Move over Nessie, Scotland gets a new prehistoric marine reptile\"}\n",
        "{\"category\": \"science\", \"summary\": \"CAPE CANAVERAL, Fla (Reuters) - An unmanned SpaceX rocket blasted off on Saturday to deliver a cargo capsule to the International Space Station, but narrowly failed a novel test to land itself on a platform in the ocean, the company said.\", \"title\": \"SpaceX rocket nails launch but narrowly misses landing test\"}\n",
        "{\"category\": \"science\", \"summary\": \"TOKYO (Reuters) - Japan is shifting its space program toward potential military uses in a new policy hailed on Friday as a \\\"historic turning point\\\" by Prime Minister Shinzo Abe, who wants to strengthen defence and boost exports.\", \"title\": \"Japan reorients space effort to bolster security, drive exports\"}\n",
        "{\"category\": \"science\", \"summary\": \"NEW YORK (Reuters) - Almost always raise your opponent's first bet, which can provoke an immediate fold. In later rounds, if your opponent raises, re-raise if you're holding at least a pair of threes. Err on the side of playing a hand, not folding.\", \"title\": \"Know when to fold 'em: computer aces Texas hold 'em poker\"}\n",
        "{\"category\": \"science\", \"summary\": \"WASHINGTON (Reuters) - By about age 2, people can recognize their own reflections in a mirror. Great apes including chimpanzees, orangutans, bonobos and gorillas also have exhibited this key indicator of intelligence. But monkeys? Not so much.\", \"title\": \"Mirror, mirror on the wall, who's the fairest monkey of all?\"}\n",
        "{\"category\": \"science\", \"summary\": \"RAANANA, Israel (Reuters) - Dodgy line calls are the bane of tennis players from professional to amateur but a new system to rival Hawk-Eye will allow club plodders and not just the world's elite to take a closer look at contentious decisions.\", \"title\": \"Smart Court serves up instant review for the tennis masses\"}\n",
        "{\"category\": \"science\", \"summary\": \"TUZLA, Bosnia (Reuters) - Bosnia was still digging up the bones of its own when those of others began arriving in boxes from the tsunami-struck shores of Southeast Asia a decade ago.\", \"title\": \"Bosnia leads global search for missing with expertise on bones\"}\n",
        "{\"category\": \"science\", \"summary\": \"CAPE CANAVERAL, Fla (Reuters) - Space Exploration Technologies will try again Saturday to launch a Falcon 9 rocket carrying a cargo capsule for the International Space Station, then attempt to land the discarded booster on a platform in the ocean, officials said on Wednesday.\", \"title\": \"SpaceX rocket launch, and landing test, reset for Saturday\"}\n",
        "{\"category\": \"science\", \"summary\": \"WASHINGTON (Reuters) - The U.S. Air Force said on Tuesday it was close to certifying a second company to launch military and intelligence satellites into space, and announced a review of the process used to vet new entrants.\", \"title\": \"U.S. Air Force 'close' to certifying new satellite launch provider\"}\n",
        "{\"category\": \"science\", \"summary\": \"(Reuters) - Privately held 23andMe Inc and Genentech said on Tuesday they will work together to generate whole genome sequencing data for about 3,000 people with Parkinson's disease, in order to identify new therapeutic targets for treating the degenerative neurological condition.\", \"title\": \"23andMe, Genentech to analyze 3,000 Parkinson's genomes\"}\n",
        "{\"category\": \"science\", \"summary\": \"CAPE CANAVERAL, Fla. (Reuters) - A SpaceX rocket launch from Florida was canceled because of a last-minute technical glitch on Tuesday, delaying a cargo run to the International Space Station and a pioneering attempt to fly the discarded booster back to Earth, officials said.\", \"title\": \"Launch of SpaceX rocket from Florida called off\"}\n",
        "{\"category\": \"science\", \"summary\": \"(Reuters) - Corn syrup was found to be more toxic to female mice than table sugar, shortening their lives and cutting their rate of reproduction, according to a study by University of Utah researchers published online in a scientific journal on Monday.\", \"title\": \"Corn syrup more toxic than table sugar in female mice: study\"}\n",
        "{\"category\": \"science\", \"summary\": \"CAPE CANAVERAL, Fla (Reuters) - The Government Accountability Office rejected Sierra Nevada Corp\\u2019s protest of $6.8 billion in contracts NASA awarded to Boeing Co BA.N and Space Exploration Technologies to develop and fly commercial space taxis, the congressional watchdog agency said on Monday.\", \"title\": \"U.S. GAO rejects protest of space taxi deal with Boeing, SpaceX\"}\n",
        "{\"category\": \"science\", \"summary\": \"WASHINGTON (Reuters) - To learn the secret behind aging gracefully, you may want to check out the bowhead whale, the majestic denizen of the Arctic waters that boasts a lifespan topping 200 years.\", \"title\": \"How to age gracefully? Ask a bowhead whale\"}\n",
        "{\"category\": \"science\", \"summary\": \"WASHINGTON (Reuters) - Its fangs are not what makes the newly identified Indonesian frog species Limnonectes larvaepartus unique on Earth. The way it makes babies does.\", \"title\": \"Indonesian frog is one of a kind - and not because of its fangs\"}\n",
        "{\"category\": \"science\", \"summary\": \"(Reuters) - Monarch butterflies may warrant U.S. Endangered Species Act protection because of farm-related habitat loss blamed for sharp declines in cross-country migrations of the orange-and-black insects, the U.S. Fish and Wildlife Service said on Monday.\", \"title\": \"Monarch butterfly eyed for possible U.S. endangered species protection\"}\n",
        "{\"category\": \"science\", \"summary\": \"LONDON (Reuters) - European regulators have recommended approval of the first medicine containing stem cells to treat a rare condition caused by burns to the eye.\", \"title\": \"Europe recommends approval for first stem-cell therapy\"}\n",
        "{\"category\": \"science\", \"summary\": \"TOKYO (Reuters) - A disgraced Japanese researcher has failed to replicate results hailed as a potential breakthrough in stem-cell treatment and efforts to do so will be abandoned, officials at her research institute said on Friday.\", \"title\": \"Disgraced Japan researcher fails to replicate 'game changing' stem cell results\"}\n",
        "{\"category\": \"science\", \"summary\": \"WASHINGTON (Reuters) - You might want to be careful about who you call a birdbrain. Some of our feathered friends exhibit powers of perception that put humans to shame.\", \"title\": \"Songbirds fly coop long before tornadoes arrive in Tennessee\"}\n",
        "{\"category\": \"top_news\", \"summary\": \"KIEV (Reuters) - Interpol has put ousted Ukrainian president Viktor Yanukovich and two members of his former government on the international wanted list at the behest of Ukraine, according to a notice on its website on Monday.\", \"title\": \"Ukraine's Yanukovich wanted for embezzlement: Interpol\"}"
       ]
      },
      {
       "output_type": "stream",
       "stream": "stdout",
       "text": [
        "\n",
        "{\"category\": \"top_news\", \"summary\": \"PARIS (Reuters) - France will deploy 10,000 soldiers on home soil by Tuesday and post almost 5,000 extra police officers to protect Jewish sites after the killing of 17 people by Islamist militants in Paris last week, officials said.\", \"title\": \"France mobilizes 10,000 troops at home after Paris shootings\"}\n",
        "{\"category\": \"top_news\", \"summary\": \"NEW YORK (Reuters) - Oil slumped 5 percent to near six-year lows on Monday, accelerating its months-long rout after Goldman Sachs slashed its short-term price forecasts and Gulf producers showed no signs of curbing output.\", \"title\": \"Oil slumps 5 percent after Goldman slashes price forecast\"}\n",
        "{\"category\": \"top_news\", \"summary\": \"PANGKALAN BUN, Indonesia/JAKARTA (Reuters) - Indonesian navy divers retrieved the black box flight data recorder from the wreck of an AirAsia passenger jet on Monday, a major step towards unraveling the cause of the crash that killed all 162 people on board.\", \"title\": \"Divers retrieve AirAsia 'black box', explosion theory questioned\"}\n",
        "{\"category\": \"top_news\", \"summary\": \"(Reuters) - General Motors Co received 141 additional claims for compensation for ignition switch defects in its cars in the past week, bringing the total to 2,710, according to the official administering the compensation program.\", \"title\": \"GM gets 141 more claims for faulty ignition switch compensation\"}\n",
        "{\"category\": \"top_news\", \"summary\": \"WASHINGTON/HAVANA (Reuters) - Cuba has released all 53\\u00a0prisoners it had promised to free, senior U.S. officials said, a major step toward d\\u00e9tente with Washington.\", \"title\": \"Exclusive: Cuba has freed all 53 prisoners as agreed in U.S. deal - U.S. officials\"}\n",
        "{\"category\": \"top_news\", \"summary\": \"WASHINGTON (Reuters) - The U.S. Supreme Court on Monday rejected former Goldman Sachs Group director Rajat Gupta\\u2019s challenge to a permanent ban from acting as a public company officer.\", \"title\": \"U.S. top court declines to hear Gupta's appeal over officer ban\"}\n",
        "{\"category\": \"top_news\", \"summary\": \"WASHINGTON (Thomson Reuters Foundation) - The United States is spending more than $300 million a year on Afghan police officer salaries despite a significant risk that the funds are being wasted and abused, a U.S. government watchdog said on Monday.\", \"title\": \"U.S.-funded Afghan police payroll at risk of waste and abuse: watchdog\"}\n",
        "{\"category\": \"top_news\", \"summary\": \"HONG KONG/BEIJING (Reuters) - Mark Zuckerberg and Xiaomi Inc CEO Lei Jun discussed a potential investment by Facebook in China's top smartphone maker ahead of its $1.1 billion fundraising last month, but a deal never materialized, several people with knowledge of the matter told Reuters.\", \"title\": \"Exclusive: Facebook, Xiaomi discussed possible investment in the Chinese smartphone maker - sources\"}\n",
        "{\"category\": \"top_news\", \"summary\": \"WASHINGTON (Reuters) - The Supreme Court on Monday asked the U.S. government to weigh in on whether the justices should hear a closely watched copyright dispute between Google Inc and Oracle Corp over software used to design Google\\u2019s Android smartphone operating system.\", \"title\": \"Supreme Court seek Obama administration views on Google-Oracle dispute\"}\n",
        "{\"category\": \"top_news\", \"summary\": \"ZURICH (Reuters) - A former Julius Baer banker acknowledged that he passed confidential client data to WikiLeaks but argued his actions were not illegal, as his trial resumed on charges of breaching Swiss banking secrecy law.\", \"title\": \"Trial resumes for Swiss ex-banker charged with giving data to Wikileaks\"}\n",
        "{\"category\": \"top_news\", \"summary\": \"WASHINGTON (Reuters) - The U.S. Supreme Court, which is in the midst of deciding whether to take up the issue of gay marriage, on Monday declined to take an early look at a challenge to Louisiana\\u2019s state ban.\", \"title\": \"Supreme Court rejects Louisiana gay marriage case, takes no action on four others\"}\n",
        "{\"category\": \"top_news\", \"summary\": \"WASHINGTON (Reuters) - The United States and its allies targeted Islamic State forces in 27 air strikes in Iraq and Syria in a 24-hour period, the Combined Joint Task Force said on Monday.\", \"title\": \"Islamic State hit with 27 air strikes: U.S. military\"}\n",
        "{\"category\": \"top_news\", \"summary\": \"ZAGREB (Reuters) - Croatia's new center president signaled on Monday she meant to hold the Social Democrat-led government to account over the economy, in comments that could herald months of tense cohabitation before a parliamentary election.\", \"title\": \"New Croatian president targets government over economy\"}\n",
        "{\"category\": \"top_news\", \"summary\": \"DETROIT (Reuters) - For Detroit\\u2019s first auto show of the 21st Century in January 2000, General Motors announced \\\"the largest auto show exhibit ever in North America\\\" to usher in the new Millennium.\", \"title\": \"Auto industry's past and future collide in Detroit\"}\n",
        "{\"category\": \"top_news\", \"summary\": \"ZURICH/LOS ANGELES (Reuters) - Roche Holding will acquire a majority stake in molecular and genomic analysis business Foundation Medicine, it said on Monday, signaling its determination to expand in cancer immunotherapy by paying a hefty mark-up on the U.S. company's current price.\", \"title\": \"Roche in $1 billion-plus Foundation Medicine deal to boost cancer efforts\"}\n",
        "{\"category\": \"top_news\", \"summary\": \"SINGAPORE (Reuters) - A Singapore court has ordered a blogger to pay S$29,000 ($21,700) to Singapore Prime Minister Lee Hsien Loong as legal costs after Lee won a defamation case late last year.\", \"title\": \"Singapore court orders blogger to pay PM nearly $22,000 for legal costs\"}\n",
        "{\"category\": \"top_news\", \"summary\": \"KABUL (Reuters) - Afghan President Ashraf Ghani nominated ministers for his new cabinet on Monday, after a wait of more than three months, to try to establish a working government to tackle the violence-racked country's problems.\", \"title\": \"Afghan president finally nominates cabinet ministers\"}\n",
        "{\"category\": \"top_news\", \"summary\": \"CAIRO (Reuters) - An Egyptian court on Monday ordered the release of 26 men who were detained last month in a raid on a Cairo bath house after police received a tip that they were holding gay orgies.\", \"title\": \"Egypt court orders release of 26 men detained over bath house 'orgy'\"}\n",
        "{\"category\": \"top_news\", \"summary\": \"LONDON (Reuters) - Shire Plc has agreed to buy U.S. group NPS Pharmaceuticals Inc for $5.2 billion, the Dublin-based drugmaker's biggest acquisition yet as it seeks to strengthen its position in the lucrative field of medicines for rare diseases.\", \"title\": \"Shire to buy NPS for $5.2 billion to boost rare disease drugs\"}\n",
        "{\"category\": \"health\", \"summary\": \"LONDON (Reuters) - Shire Plc has agreed to buy U.S. group NPS Pharmaceuticals Inc for $5.2 billion, the Dublin-based drugmaker's biggest acquisition yet as it seeks to strengthen its position in the lucrative field of medicines for rare diseases.\", \"title\": \"Shire to buy NPS for $5.2 billion to boost rare disease drugs\"}"
       ]
      },
      {
       "output_type": "stream",
       "stream": "stdout",
       "text": [
        "\n",
        "{\"category\": \"health\", \"summary\": \"(Reuters Health) - Many teens wrongly think light or occasional smoking isn\\u2019t bad for them, according to an analysis of a nationwide youth survey.\", \"title\": \"Kids may think light smoking is safe\"}\n",
        "{\"category\": \"health\", \"summary\": \"LONDON (Reuters) - Several expensive cancer medicines will no longer be available on Britain's state-funded National Health Service (NHS) following an overhaul of an over-budget drug funding scheme, NHS England said on Monday.\", \"title\": \"Britain's health service to halt access to some costly cancer drugs\"}\n",
        "{\"category\": \"health\", \"summary\": \"PARIS (Reuters) - Taiwan has reported an outbreak of the highly pathogenic H5N8 bird flu virus on a goose farm, the World Organization for Animal Health (OIE) said on Monday.\", \"title\": \"Taiwan reports H5N8 bird flu outbreak: OIE\"}\n",
        "{\"category\": \"health\", \"summary\": \"(Reuters Health) - People who ate the most fiber were less likely to die of any cause during a recent study of nearly one million people.\", \"title\": \"Higher-fiber diet linked to lower risk of death\"}\n",
        "{\"category\": \"health\", \"summary\": \"LONDON/ZURICH (Reuters) - Johnson & Johnson boosted its research efforts into battling Alzheimer's on Monday, striking a deal potentially worth more than $500 million to develop anti-tau vaccines with Swiss biotech firm AC Immune.\", \"title\": \"J&J strikes Alzheimer's research deal with Swiss firm AC Immune\"}\n",
        "{\"category\": \"health\", \"summary\": \"(Reuters) - The U.S. Food and Drug Administration approved AbbVie Inc's treatment for Parkinson's disease.\", \"title\": \"AbbVie wins U.S. approval for Parkinson's treatment\"}\n",
        "{\"category\": \"health\", \"summary\": \"(Reuters) - Privately held 23andMe Inc said Pfizer Inc would have access to its research services, helping the pharmaceutical giant better understand the lupus disease.\", \"title\": \"Pfizer partners with DNA research firm to study lupus disease\"}\n",
        "{\"category\": \"health\", \"summary\": \"WASHINGTON (Reuters) - The U.S. Supreme Court on Monday declined to take up another broad challenge to President Barack Obama's signature healthcare law.\", \"title\": \"Supreme Court rejects new challenge to Obamacare law\"}\n",
        "{\"category\": \"health\", \"summary\": \"LONDON (Reuters) - A British nurse diagnosed with Ebola last month is recovering and is no longer in a critical condition, the London hospital treating her said in a statement on Monday.\", \"title\": \"British Ebola patient recovering, no longer critical, says hospital\"}\n",
        "{\"category\": \"health\", \"summary\": \"(Reuters) - Drug developer Arrowhead Research Corp said the U.S. Food and Drug Administration placed the company's experimental hepatitis B treatment on partial clinical hold, seeking additional data from the drug's mid-stage study.\", \"title\": \"FDA places Arrowhead Hepatitis B drug on partial hold, shares plunge\"}\n",
        "{\"category\": \"health\", \"summary\": \"NEW YORK (Reuters) - Americans will continue to flock to indoor cycling, interval training, group fitness classes and other calorie-burning activities in 2015, but now hi-tech devices will monitor their every waking - and sleeping - hours, fitness experts say.\", \"title\": \"Hi-tech trackers will play big role in fitness in 2015 - experts\"}\n",
        "{\"category\": \"health\", \"summary\": \"LONDON, (Reuters) - Developing and bringing to market effective Ebola vaccines requires extreme measures and unprecedented international cooperation, global health experts said on Monday.\", \"title\": \"'Extreme measures' needed to see Ebola shot development through\"}\n",
        "{\"category\": \"health\", \"summary\": \"LONDON (Reuters) - Millions more students worldwide could train as doctors and nurses using electronic learning, which is just as effective as traditional medical training, a review commissioned by the World Health Organization has found.\", \"title\": \"E-learning matches traditional training for doctors, nurses: review\"}\n",
        "{\"category\": \"health\", \"summary\": \"LONDON (Reuters) - AstraZeneca said on Monday its MedImmune biotech unit had struck a deal with unlisted U.S. company Omnis Pharmaceuticals on the development of cancer-fighting oncolytic viruses.\", \"title\": \"AstraZeneca in cancer viruses deal with Omnis Pharmaceuticals\"}\n",
        "{\"category\": \"health\", \"summary\": \"PARIS (Reuters) - The European Medicines Agency has agreed to review an application by Sanofi and Regeneron for their cholesterol-lowering drug alirocumab, the pharmaceutical groups said in a statement on Monday.\", \"title\": \"Sanofi, Regeneron submit new cholesterol drug to EMA for review\"}\n",
        "{\"category\": \"health\", \"summary\": \"(Reuters) - Merck & Co has put on fast track its plans to submit new drugs for hepatitis C and lung cancer for regulatory approval, in an attempt to close the gap with competitors in two lucrative segments, the Wall Street Journal reported.\", \"title\": \"Merck speeds up drug-submission plans for Hep C, lung cancer: WSJ\"}\n",
        "{\"category\": \"health\", \"summary\": \"(Reuters) - Bristol-Myers Squibb Co said the independent data monitoring committee concluded that a late stage study evaluating Opdivo versus docetaxel in previously treated patients with advanced, squamous cell non-small cell lung cancer met its endpoint.\", \"title\": \"Bristol-Myers says panel finds Opdivo lung cancer study meets endpoint\"}\n",
        "{\"category\": \"health\", \"summary\": \"SEATTLE (Reuters) - Strains of listeria bacteria found inside a California apple processing plant are believed to be the same ones associated with an outbreak that killed seven people and sickened dozens of others last year, federal officials said.\", \"title\": \"California apple plant linked to deadly listeria outbreak: FDA\"}\n",
        "{\"category\": \"health\", \"summary\": \"NEW YORK (Reuters) - Thousands of Haitians killed or sickened by a cholera epidemic that they blame on U.N. peacekeepers cannot sue the United Nations in a U.S. court because the U.N. has legal immunity that only it can waive, a judge has ruled.\", \"title\": \"U.S. judge rules Haitians cannot sue U.N. for cholera epidemic\"}\n",
        "{\"category\": \"healthcare\", \"summary\": \"* AmericansourceBergen down 1.4 pct (Adds analysts comments; updates shares)\", \"title\": \"UPDATE 2-AmerisourceBergen enters animal health market with $2.5 bln deal\"}"
       ]
      },
      {
       "output_type": "stream",
       "stream": "stdout",
       "text": [
        "\n",
        "{\"category\": \"healthcare\", \"summary\": \"Jan 12 (Reuters) - Novartis AG : * Says plans 2015 registration trial of ctl019 in acute lymphoblastic leukemia\", \"title\": \"BRIEF-Novartis plans 2015 registration trial of leukemia drug\"}\n",
        "{\"category\": \"healthcare\", \"summary\": \"LONDON, Jan 12 (Reuters) - Several expensive cancer medicines will no longer be available on Britain's state-funded National Health Service (NHS) following an overhaul of an over-budget drug funding scheme, NHS England said on Monday.\", \"title\": \"Britain's health service to halt access to some costly cancer drugs\"}\n",
        "{\"category\": \"healthcare\", \"summary\": \"* CEO says listing is among options for company's future (Adds comments from AC Immune CEO)\", \"title\": \"UPDATE 2-J&J strikes Alzheimer's research deal with Swiss firm AC Immune\"}\n",
        "{\"category\": \"healthcare\", \"summary\": \"Jan 12 (Reuters) - The U.S. Food and Drug Administration approved AbbVie Inc's treatment for Parkinson's disease.\", \"title\": \"CORRECTED-AbbVie wins U.S. approval for Parkinson's treatment\"}\n",
        "{\"category\": \"healthcare\", \"summary\": \"Jan 12 (Reuters) - Merck & Co said it would fast track its plans to submit new drugs for hepatitis C and lung cancer for regulatory approval.\", \"title\": \"UPDATE 1-Merck speeds up drug-submission plans for Hep C, lung cancer\"}\n",
        "{\"category\": \"healthcare\", \"summary\": \"Jan 12 (Reuters) - The following financial services industry appointments were announced on Monday. To inform us of other job changes, email moves@thomsonreuters.com.\", \"title\": \"MOVES-Blackstone, KKR, National Bank of Abu Dhabi, Houlihan Lokey\"}\n",
        "{\"category\": \"healthcare\", \"summary\": \"Jan 12 (Reuters) - Privately held 23andMe Inc said Pfizer Inc would have access to its research services, helping the pharmaceutical giant better understand the lupus disease.\", \"title\": \"Pfizer partners with DNA research firm to study lupus disease\"}\n",
        "{\"category\": \"healthcare\", \"summary\": \"LONDON, Jan 12 (Reuters) - A British nurse diagnosed with Ebola last month is recovering and is no longer in a critical condition, the London hospital treating her said in a statement on Monday.\", \"title\": \"UPDATE 1-British Ebola patient recovering, no longer critical, says hospital\"}\n",
        "{\"category\": \"healthcare\", \"summary\": \"WASHINGTON, Jan 12 (Reuters) - The U.S. Supreme Court on Monday declined to take up another broad challenge to President Barack Obama's signature healthcare law.\", \"title\": \"U.S. top court rejects new challenge to Obamacare law\"}\n",
        "{\"category\": \"healthcare\", \"summary\": \"Jan 12 (Reuters) - Guangzhou Baiyunshan Pharmaceutical Holdings Co Ltd\", \"title\": \"BRIEF-Baiyunshan Pharma to raise up to 10 bln yuan in private placement of A-shares\"}\n",
        "{\"category\": \"healthcare\", \"summary\": \"Jan 12 (Reuters) - The following bids, mergers, acquisitions and disposals were reported by 1430 GMT on Monday:\", \"title\": \"Deals of the day- Mergers and acquisitions\"}\n",
        "{\"category\": \"healthcare\", \"summary\": \"* Financial supervisory authority of Norway has approved prospectus in connection with completed private placement Source text for Eikon: Further company coverage: (Gdynia Newsroom)\", \"title\": \"BRIEF-Nel ASA: approved prospectus\"}\n",
        "{\"category\": \"healthcare\", \"summary\": \"STOCKHOLM, Jan 12 (Reuters) - Outgoing Getinge Chief Executive Johan Malmquist said on Monday that his decision to step down had nothing to with any new developments in ongoing discussions with the U.S. Food and Drug Administration (FDA) over quality controls.\", \"title\": \"Getinge CEO says resignation unrelated to any FDA developments\"}\n",
        "{\"category\": \"healthcare\", \"summary\": \"* Indexes off: Dow 0.49 pct, S&P 0.55 pct, Nasdaq 0.41 pct (Updates to market open)\", \"title\": \"US STOCKS-Wall Street falls as oil prices weigh on energy sector\"}\n",
        "{\"category\": \"healthcare\", \"summary\": \"LONDON, Jan 12 (Reuters) - A British nurse diagnosed with Ebola last month is recovering and is no longer in a critical condition, the London hospital treating her said in a statement on Monday.\", \"title\": \"British Ebola patient recovering, no longer critical, says hospital\"}\n",
        "{\"category\": \"healthcare\", \"summary\": \"* Futures up: Dow 27 pts, S&P 2.75 pts, Nasdaq 8 pts (Adds quote, updates prices)\", \"title\": \"US STOCKS-Wall Street set to open flat ahead of earnings\"}\n",
        "{\"category\": \"healthcare\", \"summary\": \"Jan 12 (Reuters) - Medical technology group Getinge said on Monday its long-time Chief Executive Johan Malmquist was stepping down, sending shares of the firm sharply lower.\", \"title\": \"UPDATE 1-Getinge's long-time CEO Malmquist to step down, shares fall\"}\n",
        "{\"category\": \"healthcare\", \"summary\": \"Jan 12 (Reuters) - Pharmaceutical products distributor AmerisourceBergen Corp said it will buy MWI Veterinary Supply Inc for about $2.5 billion to enter the market for animal health products distribution.\", \"title\": \"REFILE-UPDATE 1-AmerisourceBergen to buy MWI Veterinary for about $2.5 bln\"}\n",
        "{\"category\": \"healthcare\", \"summary\": \"* Futures up: Dow 56 pts, S&P 14.25 pts, Nasdaq 7.25 pts (Adds premarket actives)\", \"title\": \"US STOCKS-Futures advance ahead of earnings after two-week drop\"}\n"
       ]
      }
     ],
     "prompt_number": 52
    },
    {
     "cell_type": "markdown",
     "metadata": {},
     "source": [
      "We've put the complete code for our python feed scraper in `flu_news/news_streaming/news_rss_collector.py`"
     ]
    },
    {
     "cell_type": "heading",
     "level": 2,
     "metadata": {},
     "source": [
      "Using Flume to Transport Data"
     ]
    },
    {
     "cell_type": "markdown",
     "metadata": {},
     "source": [
      "Transporting data with a Flume agent is easy.  We simply need to define 3 components:\n",
      "\n",
      "* A source, which picks up data\n",
      "* A channel, which holds data until delivery\n",
      "* And a sink, which delivers data to a receiver -- this could be a file, a streaming agent, or another Flume agent.\n",
      "\n",
      "These components are defined in a configuration file as follows."
     ]
    },
    {
     "cell_type": "code",
     "collapsed": false,
     "input": [
      "!cat ../flu_news/news_streaming/flu_news_flume_config"
     ],
     "language": "python",
     "metadata": {},
     "outputs": [
      {
       "output_type": "stream",
       "stream": "stdout",
       "text": [
        "# example.conf: A single-node Flume configuration\r\n",
        "\r\n",
        "# Name the components on this agent\r\n",
        "newsAgent.sources = r1\r\n",
        "newsAgent.sinks = k1\r\n",
        "newsAgent.channels = c1\r\n",
        "\r\n",
        "# Describe/configure the source\r\n",
        "newsAgent.sources.r1.type = exec\r\n",
        "newsAgent.sources.r1.command = ./news_rss_collector.py\r\n",
        "\r\n",
        "# Describe the sink\r\n",
        "newsAgent.sinks.k1.type = avro\r\n",
        "newsAgent.sinks.k1.channel = c1\r\n",
        "newsAgent.sinks.k1.hostname = localhost\r\n",
        "newsAgent.sinks.k1.port = 44444\r\n",
        "\r\n",
        "# Use a channel which buffers events in memory\r\n",
        "newsAgent.channels.c1.type = memory\r\n",
        "newsAgent.channels.c1.capacity = 1000\r\n",
        "newsAgent.channels.c1.transactionCapacity = 100\r\n",
        "\r\n",
        "# Bind the source and sink to the channel\r\n",
        "newsAgent.sources.r1.channels = c1\r\n",
        "newsAgent.sinks.k1.channel = c1"
       ]
      }
     ],
     "prompt_number": 2
    },
    {
     "cell_type": "markdown",
     "metadata": {},
     "source": [
      "In this configuration, our source is an `exec` source.  It runs a program for us and collects the output.\n",
      "\n",
      "The channel is a simple memory buffer.  It can hold on to a limited number of events (or messages).  Once it's full, it will not accept any new data until its emptied by a sink.\n",
      "\n",
      "The sink is an `avro` sink.  It uses the [Avro](http://avro.apache.org/) data format to push output serialized data to any service listening for data on the specified host and port (in our case `localhost` and `44444`).\n",
      "\n",
      "Finally, we connect the source and the sink together through the channel.  The source and sink both have channel parameters -- if they're set to the same channel, they're connected.\n",
      "\n",
      "Once configured, we need a way to start our flume agent.  There's a script in `flu_news/news_streaming/start_flume.sh` which does this, but what it's really doing is running a flume command with our config script."
     ]
    },
    {
     "cell_type": "code",
     "collapsed": false,
     "input": [
      "!cat ../flu_news/news_streaming/start_flume.sh"
     ],
     "language": "python",
     "metadata": {},
     "outputs": [
      {
       "output_type": "stream",
       "stream": "stdout",
       "text": [
        "#! /bin/bash\r\n",
        "flume-ng agent --name newsAgent --conf-file ./flu_news_flume_config -f /usr/lib/flume-ng/conf/flume-conf.properties.template -Dflume.root.logger=DEBUG,console\r\n"
       ]
      }
     ],
     "prompt_number": 4
    },
    {
     "cell_type": "markdown",
     "metadata": {},
     "source": [
      "That's all we need to get flume collecting news data and sending it to Spark Streaming!"
     ]
    },
    {
     "cell_type": "heading",
     "level": 2,
     "metadata": {},
     "source": [
      "Using Spark Streaming to Search Streams"
     ]
    },
    {
     "cell_type": "markdown",
     "metadata": {},
     "source": [
      "Now that we have a data stream ready to process, we need to build a Spark Streaming application to process that data.  Our aim is simple: process the JSON records, keep track of how many articles we've seen, and write any articles about the flu to disk for later use.\n",
      "\n",
      "This all happens in our scala code, so let's look at the `NewsStreamer.scala` class.\n",
      "\n",
      "First, we have a case class for our `RSSItem`s, this will make it easy to parse the JSON data using `json4s`.\n",
      "\n",
      "Next, we have the `containsFlu` method.  We'll use this simple match-case funtion to filter records of interest from the data stream.\n",
      "\n",
      "The `main` method contains most of the interesting code about connecting to and processing our data stream.\n",
      "\n",
      "*    We need a special context for streaming jobs.  \n",
      "    This `StreamingContext` takes a configuration and the time each data processing batch takes.  We'll be working on a 30 second interval, but Spark can go faster.\n",
      "    \n",
      "    \n",
      "*    We create a Flume stream called `flumeStream` which listens on the specified host and port for an avro data stream.\n",
      "    This is stream is a `DStreamRDD` and will be the primary RDD on which our program operates.\n",
      "    \n",
      "    \n",
      "*    We'll use our case class and json4s to make an RDD which contains `RSSItem` objects from our JSON data.  \n",
      "    This is accomplished exactly as it would be in a non-streaming application, but in this case it's applied to each batch of streaming data.\n",
      "    \n",
      "    \n",
      "*    We can filter the resulting RDD `rssData` using our `containsFlu` function.\n",
      "\n",
      "\n",
      "*    Using the `print` method, we can count up and print what's found in each 30-second batch.\n",
      "\n",
      "\n",
      "*    If we've found flu data, we want to write it to HDFS.  \n",
      "    Spark Streaming provides a `saveAsTextFile` method just like Spark core, but it writes files for each batch.  Since not all news is about the flu, that would mean a lot of empty files.  Instead, we want to only write to HDFS if the count of flu records in the batch is greater than zero.\n",
      "    \n",
      "    For this, we need to use the `forEachRDD` method.  A `DStream` is actually made up of a number of RDDs, so we'll need to process each of them.\n",
      "\n",
      "\n",
      "*    Finally, we actually start our streaming program.  \n",
      "    This is done by calling `start()`.  The `awaitTermination` call provides the listening function to process data on the stream until the program is terminated."
     ]
    },
    {
     "cell_type": "code",
     "collapsed": false,
     "input": [
      "!cat ../flu_news/news_streaming/news_streamer/src/main/scala/com/oracle/newsstream/NewsStreamer.scala"
     ],
     "language": "python",
     "metadata": {},
     "outputs": [
      {
       "output_type": "stream",
       "stream": "stdout",
       "text": [
        "package com.oracle.newsstream\r\n",
        "\r\n",
        "import org.json4s._\r\n",
        "import org.json4s.jackson.Serialization.{read,write}\r\n",
        "import org.apache.spark._\r\n",
        "import org.apache.spark.rdd.RDD\r\n",
        "import org.apache.spark.rdd._\r\n",
        "import org.apache.spark.streaming._\r\n",
        "import org.apache.spark.streaming.StreamingContext._\r\n",
        "import org.apache.spark.streaming.flume._\r\n",
        "import scala.collection.immutable.StringOps\r\n",
        "\r\n",
        "\r\n",
        "case class RSSItem(category : String, title : String, summary : String)\r\n",
        "\r\n",
        "\r\n",
        "object NewsStreamer {\r\n",
        "    def containsFlu(x : String): Boolean = x match {\r\n",
        "      case x if x contains \" flu \" => true\r\n",
        "      case x if x contains \" influenza \" => true\r\n",
        "      case x if x contains \" disease \" => true\r\n",
        "      case x if x contains \" outbreak \" => true\r\n",
        "      case x if x contains \" H1N1 \" => true\r\n",
        "      case x if x contains \" H5N1 \" => true\r\n",
        "      case x if x contains \" sick \" => true\r\n",
        "      case _ => false\r\n",
        "    }\r\n",
        "\r\n",
        "  def main(args : Array[String]) = {\r\n",
        "    val conf = new SparkConf().setAppName(\"NewsStreamer\")\r\n",
        "    val ssc = new StreamingContext(conf, Seconds(30))\r\n",
        "    \r\n",
        "    val flumeStream = FlumeUtils.createStream(ssc, \"localhost\", 44444)\r\n",
        "    val rssData = flumeStream.map(record => {\r\n",
        "\timplicit val formats = DefaultFormats\r\n",
        "        read[RSSItem](new String(record.event.getBody().array()))\r\n",
        "\t})\r\n",
        "    val healthSummaries = rssData.filter(x => containsFlu(x.summary))\r\n",
        "\r\n",
        "    // print batch summaries to the screen\r\n",
        "    rssData.count().map(cnt => \"rss recv \" + cnt + \" events\").print()\r\n",
        "\r\n",
        "    val hsc = healthSummaries.count()\r\n",
        "    hsc.map(cnt => \"health summaries recv \" + cnt + \" events\").print()\r\n",
        "    \r\n",
        "    //write health data out to HDFS\r\n",
        "    val now: Long = System.currentTimeMillis\r\n",
        "    healthSummaries.foreachRDD(r => {\r\n",
        "\t    if (r.count() > 0) {\r\n",
        "              r.map(item => {\r\n",
        "                implicit val formats = DefaultFormats\r\n",
        "                write(item)\r\n",
        "\t\t  }).saveAsTextFile(\"/user/oracle/flu_streaming/flu_stream-\"+now.toString())\r\n",
        "\t\t}\r\n",
        "\t})\r\n",
        "    ssc.start()\r\n",
        "    ssc.awaitTermination()\r\n",
        "  }\r\n",
        "}\r\n"
       ]
      }
     ],
     "prompt_number": 6
    },
    {
     "cell_type": "markdown",
     "metadata": {},
     "source": [
      "Building our Spark Streaming app is slightly different from our standalone news clustering app.  In this case, we need to include a number of libraries which are not necessarily available on every node in a Spark cluster.  This means we need to provide them in our JAR file.\n",
      "\n",
      "The `sbt` *assembly* plugin makes this possible.  It builds an all-encompassing JAR which includes all the libraries we need.  To add it to our project, we create a file called `assembly.sbt`.  In the file, we add the plug-in and version."
     ]
    },
    {
     "cell_type": "code",
     "collapsed": false,
     "input": [
      "!cat ../flu_news/news_streaming/news_streamer/project/assembly.sbt"
     ],
     "language": "python",
     "metadata": {},
     "outputs": [
      {
       "output_type": "stream",
       "stream": "stdout",
       "text": [
        "addSbtPlugin(\"com.eed3si9n\" % \"sbt-assembly\" % \"0.12.0\")"
       ]
      }
     ],
     "prompt_number": 10
    },
    {
     "cell_type": "markdown",
     "metadata": {},
     "source": [
      "Adding `assembly` means some changes to our `built.sbt` file as well.  We need to exclude libraries we know the Spark cluster will have, and decide how to handle conflicting versions.  Check out the `build.sbt` below for one possible way of doing this. "
     ]
    },
    {
     "cell_type": "code",
     "collapsed": false,
     "input": [
      "!cat ../flu_news/news_streaming/news_streamer/build.sbt"
     ],
     "language": "python",
     "metadata": {},
     "outputs": [
      {
       "output_type": "stream",
       "stream": "stdout",
       "text": [
        "name := \"NewsStreamer\"\r\n",
        "version := \"0.1\"\r\n",
        "scalaVersion := \"2.10.4\"\r\n",
        "libraryDependencies ++= Seq(\r\n",
        "\"org.apache.spark\" %% \"spark-core\" % \"1.1.0\" % \"provided\", \r\n",
        "\"org.apache.spark\" %% \"spark-streaming\" % \"1.1.0\" % \"provided\",\r\n",
        "\"org.apache.spark\" % \"spark-streaming-flume_2.10\" % \"1.1.0\" ,\r\n",
        "\"org.apache.hadoop\" % \"hadoop-client\" % \"2.3.0-cdh5.1.2\",\r\n",
        "\"org.json4s\" %% \"json4s-jackson\" % \"3.2.11\",\r\n",
        "\"org.json4s\" %% \"json4s-native\" % \"3.2.11\").map({dep =>\r\n",
        "dep.exclude(\"org.mortbay.jetty\", \"servlet-api\").\r\n",
        "        exclude(\"commons-beanutils\", \"commons-beanutils-core\").\r\n",
        "        exclude(\"commons-collections\", \"commons-collections\").\r\n",
        "        exclude(\"commons-collections\", \"commons-collections\").\r\n",
        "\texclude(\"commons-logging\", \"commons-logging\").\r\n",
        "        exclude(\"com.esotericsoftware.minlog\", \"minlog\").\r\n",
        "        exclude(\"asm\", \"asm\").\t\t\t     \r\n",
        "        exclude(\"org.apache.hadoop\", \"hadoop-yarn-common\")\r\n",
        "})\r\n",
        "resolvers += \"Akka Repository\" at \"http://repo.akka.io/releases/\"\r\n",
        "resolvers += \"Cloudera Repository\" at \"https://repository.cloudera.com/artifactory/cloudera-repos/\"\r\n",
        "\r\n",
        "mainClass in assembly := Some(\"com.oracle.newsstream.NewsStreamer\")\r\n",
        "\r\n",
        "mergeStrategy in assembly <<= (mergeStrategy in assembly) { (old) =>\r\n",
        "  {\r\n",
        "    case x if x.startsWith(\"META-INF/ECLIPSEF.RSA\") => MergeStrategy.last\r\n",
        "    case x if x.startsWith(\"META-INF/mailcap\") => MergeStrategy.last\r\n",
        "    case x if x.startsWith(\"META-INF/mimetypes\") => MergeStrategy.last\r\n",
        "    case x if x.startsWith(\"plugin.properties\") => MergeStrategy.last\r\n",
        "    case x if x.startsWith(\"javax\") => MergeStrategy.first\r\n",
        "    case x => old(x)\r\n",
        "  }\r\n",
        "}"
       ]
      }
     ],
     "prompt_number": 7
    },
    {
     "cell_type": "markdown",
     "metadata": {},
     "source": [
      "We can package up our app using `sbt` using the assembly directive."
     ]
    },
    {
     "cell_type": "code",
     "collapsed": false,
     "input": [
      "sbt assembly"
     ],
     "language": "python",
     "metadata": {},
     "outputs": []
    },
    {
     "cell_type": "markdown",
     "metadata": {},
     "source": [
      "We can start our streaming application using `spark-submit`"
     ]
    },
    {
     "cell_type": "code",
     "collapsed": false,
     "input": [
      "!spark-submit --class com.oracle.newsstream.NewsStreamer /home/oracle/odsb2014_2/flu_news/news_streaming/news_streamer/target/scala-2.10/NewsStreamer-assembly-0.1.jar"
     ],
     "language": "python",
     "metadata": {},
     "outputs": [
      {
       "output_type": "stream",
       "stream": "stdout",
       "text": [
        "SLF4J: Class path contains multiple SLF4J bindings.\r\n",
        "SLF4J: Found binding in [jar:file:/usr/lib/spark/assembly/lib/spark-assembly-1.1.0-cdh5.2.0-hadoop2.5.0-cdh5.2.0.jar!/org/slf4j/impl/StaticLoggerBinder.class]\r\n",
        "SLF4J: Found binding in [jar:file:/usr/lib/zookeeper/lib/slf4j-log4j12-1.7.5.jar!/org/slf4j/impl/StaticLoggerBinder.class]\r\n",
        "SLF4J: See http://www.slf4j.org/codes.html#multiple_bindings for an explanation.\r\n",
        "SLF4J: Actual binding is of type [org.slf4j.impl.Log4jLoggerFactory]\r\n"
       ]
      },
      {
       "output_type": "stream",
       "stream": "stdout",
       "text": [
        "-------------------------------------------\r\n",
        "Time: 1422474090000 ms\r\n",
        "-------------------------------------------\r\n",
        "rss recv 20 events\r\n",
        "\r\n"
       ]
      },
      {
       "output_type": "stream",
       "stream": "stdout",
       "text": [
        "-------------------------------------------\r\n",
        "Time: 1422474090000 ms\r\n",
        "-------------------------------------------\r\n",
        "health summaries recv 0 events\r\n",
        "\r\n"
       ]
      },
      {
       "output_type": "stream",
       "stream": "stdout",
       "text": [
        "-------------------------------------------\r\n",
        "Time: 1422474120000 ms\r\n",
        "-------------------------------------------\r\n",
        "rss recv 20 events\r\n",
        "\r\n"
       ]
      },
      {
       "output_type": "stream",
       "stream": "stdout",
       "text": [
        "-------------------------------------------\r\n",
        "Time: 1422474120000 ms\r\n",
        "-------------------------------------------\r\n",
        "health summaries recv 0 events\r\n",
        "\r\n"
       ]
      },
      {
       "output_type": "stream",
       "stream": "stdout",
       "text": [
        "^C\r\n"
       ]
      }
     ],
     "prompt_number": 2
    },
    {
     "cell_type": "markdown",
     "metadata": {},
     "source": [
      "Start the flume agent using the `start_flume.sh` script, and watch the records come in!  We can look at the output in HDFS as well."
     ]
    },
    {
     "cell_type": "code",
     "collapsed": false,
     "input": [
      "!hdfs dfs -ls /user/oracle/flu_streaming"
     ],
     "language": "python",
     "metadata": {},
     "outputs": [
      {
       "output_type": "stream",
       "stream": "stdout",
       "text": [
        "Found 2 items\r\n",
        "drwxr-xr-x   - oracle oracle          0 2015-01-14 15:17 /user/oracle/flu_streaming/flu_stream-1421266535\r\n",
        "drwxr-xr-x   - oracle oracle          0 2015-01-28 14:37 /user/oracle/flu_streaming/flu_stream-1422473748624\r\n"
       ]
      }
     ],
     "prompt_number": 4
    },
    {
     "cell_type": "code",
     "collapsed": false,
     "input": [
      "!hdfs dfs -cat /user/oracle/flu_streaming/flu_stream*/*"
     ],
     "language": "python",
     "metadata": {},
     "outputs": [
      {
       "output_type": "stream",
       "stream": "stdout",
       "text": [
        "{\"category\":\"health\",\"title\":\"Woman dies in Egypt of H5N1 bird flu, second death this year\",\"summary\":\"CAIRO (Reuters) - A 65-year-old Egyptian woman has died from the H5N1 strain of bird flu, the health ministry said on Wednesday, the second victim of the virus this month.\"}\r\n"
       ]
      },
      {
       "output_type": "stream",
       "stream": "stdout",
       "text": [
        "{\"category\":\"health\",\"title\":\"Diagnostics, Tamiflu help Roche full-year sales beat poll\",\"summary\":\"ZURICH (Reuters) - Swiss drugmaker Roche expects sales and profits to grow at a similar pace to last year, after a strong performance by its diagnostics unit and flu drug Tamiflu helped full-year sales beat expectations.\"}\r\n",
        "{\"category\":\"health\",\"title\":\"Start worrying about cholesterol in your 30s, study suggests\",\"summary\":\"(Reuters Health) \u2013 People with even moderately high cholesterol levels in their 30s and 40s are more likely to have heart disease later in life, according to a new study.\"}\r\n"
       ]
      }
     ],
     "prompt_number": 6
    },
    {
     "cell_type": "heading",
     "level": 2,
     "metadata": {},
     "source": [
      "Summary"
     ]
    },
    {
     "cell_type": "markdown",
     "metadata": {},
     "source": [
      "While this exercise didn't examine the flu in detail, we have managed to build an end-to-end data pipeline which will help us monitor news about the flu.  We've used a lot of components in this exercise:\n",
      "\n",
      "* We used `feedparser` to grab RSS feeds in python\n",
      "* We set up a Flume agent to collect RSS feeds and transmit them to Spark Streaming\n",
      "* We build a Spark Streaming agent to process RSS items, count them, and store any that have to do with the flu\n",
      "\n",
      "From here, we can do any number of things with the incoming flu data.  Try adding some of the machine learning approaches we applied to clustering the news to the streaming case."
     ]
    },
    {
     "cell_type": "code",
     "collapsed": false,
     "input": [],
     "language": "python",
     "metadata": {},
     "outputs": []
    }
   ],
   "metadata": {}
  }
 ]
}