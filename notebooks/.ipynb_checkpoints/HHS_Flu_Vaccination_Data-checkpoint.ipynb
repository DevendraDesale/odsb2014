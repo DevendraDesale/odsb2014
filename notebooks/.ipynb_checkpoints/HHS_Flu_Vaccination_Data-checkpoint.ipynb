{
 "metadata": {
  "name": "",
  "signature": "sha256:de8dbeee807feb298fada733e6efe0e3951c020bf8218dfda964a4d4b2aa7c6b"
 },
 "nbformat": 3,
 "nbformat_minor": 0,
 "worksheets": [
  {
   "cells": [
    {
     "cell_type": "heading",
     "level": 1,
     "metadata": {},
     "source": [
      "Loading HHS Flu Vaccination JSON Data"
     ]
    },
    {
     "cell_type": "markdown",
     "metadata": {},
     "source": [
      "Sometimes data is already in a handy document store for us. JSON (JavaScript Object Notation) data is in the form of a list of objects composed of a set of key-value pairs. \n",
      "\n",
      "In this exercise, we'll use basic python and the cx-Oracle to pull Flu Vaccination Data from HHS.gov and store it in a table in our database. The data and API are provided by the [US HHS](http://flu-vaccination-map.hhs.gov/).  Since the data we want is already in JSON format, we won't need to do much parsing, we'll mostly just \"dump\" it into the database. As usual, we begin by importing the libraries we'll need."
     ]
    },
    {
     "cell_type": "code",
     "collapsed": false,
     "input": [
      "import sys\n",
      "import cx_Oracle\n",
      "import pprint\n",
      "import re\n",
      "import string\n",
      "import json\n",
      "import urllib2"
     ],
     "language": "python",
     "metadata": {},
     "outputs": []
    },
    {
     "cell_type": "markdown",
     "metadata": {},
     "source": [
      "First thing we'll need to do is write a quick helper function to \"jsonify\" our data. This will turn our data into separate JSON strings and return them as a list of tuples. "
     ]
    },
    {
     "cell_type": "code",
     "collapsed": false,
     "input": [
      "def jsonify_data(d):\n",
      "  return(json.dumps(d),)"
     ],
     "language": "python",
     "metadata": {},
     "outputs": []
    },
    {
     "cell_type": "markdown",
     "metadata": {},
     "source": [
      "First, we'll need to connect to the database and make a table to store the data in.  Because the data we're collecting is JSON, we can save time by assigning the whole document to a single column.  For this exercise we'll just need one table, call it flu_shot_json with, one column, call it doc. We'll pull the 'results' from our data, jsonify it, then insert it into our table in the doc column."
     ]
    },
    {
     "cell_type": "code",
     "collapsed": false,
     "input": [
      "db = cx_Oracle.connect('fludb', 'flushot', 'localhost:1521/orcl')\n",
      "drop_table = 'drop table flu_shot_json'\n",
      "ddl = 'create table flu_shot_json (doc varchar2(4000), CONSTRAINT \"ENSURE_JSON\" CHECK (doc IS JSON))'\n",
      "cursor = db.cursor()\n",
      "try:\n",
      "  cursor.execute(drop_table)\n",
      "except:\n",
      "  pass\n",
      "cursor.execute(ddl)\n",
      "cursor.close()"
     ],
     "language": "python",
     "metadata": {},
     "outputs": []
    },
    {
     "cell_type": "markdown",
     "metadata": {},
     "source": [
      "That's pretty much all the setup we need to do, so now we'll go ahead and create a `write to db` function. \n",
      "\n",
      "As with most database operations, we need a cursor.  Don't forget to commit the inserts after they've executed!"
     ]
    },
    {
     "cell_type": "code",
     "collapsed": false,
     "input": [
      "def write_to_db(db, data):\n",
      "  cursor = db.cursor()\n",
      "  try:\n",
      "      cursor.prepare(\"INSERT INTO flu_shot_json(doc) VALUES (:1)\")\n",
      "      cursor.executemany(None, map(jsonify_data, data['results']))\n",
      "      db.commit()\n",
      "  except Exception as e:\n",
      "      print e"
     ],
     "language": "python",
     "metadata": {},
     "outputs": []
    },
    {
     "cell_type": "markdown",
     "metadata": {},
     "source": [
      "Now all we need to do is pull the data from HHS.gov and write it to the db. There are a number of ethnicities, so we need to collect all of them."
     ]
    },
    {
     "cell_type": "code",
     "collapsed": false,
     "input": [
      "print \"parsing dataset...\"\n",
      "for eth in [\"T\",\"A\",\"W\",\"B\",\"H\"]:\n",
      "  url = \"http://flu-vaccination-map.hhs.gov/api/v1/states.json?ethnicity=\"+eth+\"&year=lte:2014\"\n",
      "  data = json.load(urllib2.urlopen(url))\n",
      "  print \"writing to DB...\"\n",
      "  write_to_db(db, data)"
     ],
     "language": "python",
     "metadata": {},
     "outputs": []
    }
   ],
   "metadata": {}
  }
 ]
}