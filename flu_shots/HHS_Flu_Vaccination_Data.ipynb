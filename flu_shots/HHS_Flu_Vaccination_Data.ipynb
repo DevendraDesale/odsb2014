{
 "metadata": {
  "name": "HHS Flu Vaccination Data"
 },
 "nbformat": 3,
 "nbformat_minor": 0,
 "worksheets": [
  {
   "cells": [
    {
     "cell_type": "heading",
     "level": 1,
     "metadata": {},
     "source": "Loading JSON Data"
    },
    {
     "cell_type": "markdown",
     "metadata": {},
     "source": "Sometimes data is already in a handy document store for us. JSON (JavaScript Object Notation) data is in the form of a list of objects composed of a set of key-value pairs. \n\nIn this exercise, we'll use basic python and the cx-Oracle to pull Flu Vaccination Data from HHS.gov and store it in a table in our database. Since the data we want is already in JSON format, we won't need to do much parsing, we'll mostly just \"dump\" it into the database. As usual, we begin by importing the libraries we'll need."
    },
    {
     "cell_type": "code",
     "collapsed": false,
     "input": "import sys\nimport cx_Oracle\nimport pprint\nimport re\nimport string\nimport json\nimport urllib2",
     "language": "python",
     "metadata": {},
     "outputs": []
    },
    {
     "cell_type": "markdown",
     "metadata": {},
     "source": "First thing we'll need to do is write a quick helper function to \"jsonify\" our data. This will turn our data into separate JSON strings and return them as a list of tuples. "
    },
    {
     "cell_type": "code",
     "collapsed": false,
     "input": "def jsonify_data(d):\n  return(json.dumps(d),)",
     "language": "python",
     "metadata": {},
     "outputs": []
    },
    {
     "cell_type": "markdown",
     "metadata": {},
     "source": "That's pretty much all the parsing we need to do, so now we'll go ahead and modify our \"write to db\" function to be compatible with JSON data. \n\nAs always, we need a cursor. For this exercise we'll just need one table, call it flu_shot_json with, one column, call it doc. We'll pull the 'results' from our data, jsonify it, then insert it into our table in the doc column.\n\nDon't forget to commit!"
    },
    {
     "cell_type": "code",
     "collapsed": false,
     "input": "def write_to_db(db, data):\n  cursor = db.cursor()\n  try:\n      cursor.prepare(\"INSERT INTO flu_shot_json(doc) VALUES (:1)\")\n      cursor.executemany(None, map(jsonify_data, data['results']))\n      db.commit()\n  except Exception as e:\n      print e",
     "language": "python",
     "metadata": {},
     "outputs": []
    },
    {
     "cell_type": "markdown",
     "metadata": {},
     "source": "Now all we need to do is connect to our database, pull the data from HHS.gov, and write it to the db. "
    },
    {
     "cell_type": "code",
     "collapsed": false,
     "input": "  db = cx_Oracle.connect('fludb', 'flushot', 'localhost:1521/orcl')\n  print \"parsing dataset...\"\n  url = \"http://flu-vaccination-map.hhs.gov/api/v1/states.json\"\n  data = json.load(urllib2.urlopen(url))\n  print \"writing to DB...\"\n  write_to_db(db, data)",
     "language": "python",
     "metadata": {},
     "outputs": []
    }
   ],
   "metadata": {}
  }
 ]
}