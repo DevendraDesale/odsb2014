{
 "metadata": {
  "name": ""
 },
 "nbformat": 3,
 "nbformat_minor": 0,
 "worksheets": [
  {
   "cells": [
    {
     "cell_type": "code",
     "collapsed": false,
     "input": [
      "import org.json4s._\n",
      "import org.json4s.jackson.Serialization.{read,write}\n",
      "import org.apache.spark.rdd.RDD\n",
      "import org.apache.spark.mllib.clustering.KMeans\n",
      "import org.apache.spark.mllib.feature.Word2Vec\n",
      "import org.apache.spark.mllib.feature.Word2VecModel\n",
      "import org.apache.spark.mllib.linalg._"
     ],
     "language": "python",
     "metadata": {},
     "outputs": []
    },
    {
     "cell_type": "code",
     "collapsed": false,
     "input": [
      "case class NewsArticle(date : String, title : String, byline : String, fulltext : String)"
     ],
     "language": "python",
     "metadata": {},
     "outputs": []
    },
    {
     "cell_type": "code",
     "collapsed": false,
     "input": [
      "def sumArray (m: Array[Double], n: Array[Double]): Array[Double] = {\n",
      "  for (i <- 0 until m.length) {m(i) += n(i)}\n",
      "  return m\n",
      "}\n",
      "\n",
      "def divArray (m: Array[Double], divisor: Double) : Array[Double] = {\n",
      "  for (i <- 0 until m.length) {m(i) /= divisor}\n",
      "  return m\n",
      "}\n",
      "\n",
      "def wordToVector (w:String, m: Word2VecModel): Vector = {\n",
      "  try {\n",
      "    return m.transform(w)\n",
      "  } catch {\n",
      "    case e: Exception => return Vectors.zeros(100)\n",
      "  }  \n",
      "}"
     ],
     "language": "python",
     "metadata": {},
     "outputs": []
    },
    {
     "cell_type": "code",
     "collapsed": false,
     "input": [
      "val news_rdd = sc.textFile(\"hdfs://localhost:8020/user/oracle/flu_news\")"
     ],
     "language": "python",
     "metadata": {},
     "outputs": []
    },
    {
     "cell_type": "code",
     "collapsed": false,
     "input": [
      "val news_json = news_rdd.map(record => {\n",
      "  implicit val formats = DefaultFormats\n",
      "  read[NewsArticle](record)\n",
      "})"
     ],
     "language": "python",
     "metadata": {},
     "outputs": []
    },
    {
     "cell_type": "code",
     "collapsed": false,
     "input": [
      "val news_titles = news_json.map(_.title.split(\" \").toSeq)\n",
      "val news_title_words = news_titles.flatMap(x => x).map(x => Seq(x))"
     ],
     "language": "python",
     "metadata": {},
     "outputs": []
    },
    {
     "cell_type": "code",
     "collapsed": false,
     "input": [
      "val w2v_input = sc.textFile(\"file:///home/oracle/odsb2014/flu_news/data/linewise_text_8\").sample(false, 0.25,2).map(x => Seq(x))\n",
      "val all_input = w2v_input ++ news_title_words"
     ],
     "language": "python",
     "metadata": {},
     "outputs": []
    },
    {
     "cell_type": "code",
     "collapsed": false,
     "input": [
      "val word2vec = new Word2Vec()\n",
      "val model = word2vec.fit(all_input)"
     ],
     "language": "python",
     "metadata": {},
     "outputs": []
    },
    {
     "cell_type": "code",
     "collapsed": false,
     "input": [
      "val title_vectors = news_titles.map(x => new DenseVector(divArray(x.map(m => wordToVector(m, model).toArray).reduceLeft(sumArray),x.length)).asInstanceOf[Vector])\n",
      "\n",
      "val title_pairs = news_titles.map(x => (x,new DenseVector(divArray(x.map(m => wordToVector(m, model).toArray).reduceLeft(sumArray),x.length)).asInstanceOf[Vector]))"
     ],
     "language": "python",
     "metadata": {},
     "outputs": []
    },
    {
     "cell_type": "code",
     "collapsed": false,
     "input": [
      "var numClusters = 100\n",
      "val numIterations = 25\n",
      "var clusters = KMeans.train(title_vectors, numClusters, numIterations)\n",
      "var wssse = clusters.computeCost(title_vectors)"
     ],
     "language": "python",
     "metadata": {},
     "outputs": []
    },
    {
     "cell_type": "code",
     "collapsed": false,
     "input": [
      "val article_membership = title_pairs.mapValues(x => clusters.predict(x))\n",
      "val cluster_centers = sc.parallelize(clusters.clusterCenters.zipWithIndex.map{ e => (e._2,e._1)})\n",
      "val cluster_topics = cluster_centers.mapValues(x => model.findSynonyms(x,5).map(x => x(0)))"
     ],
     "language": "python",
     "metadata": {},
     "outputs": []
    },
    {
     "cell_type": "code",
     "collapsed": false,
     "input": [
      "var sample_topic = cluster_topics.take(10)(6)\n",
      "println(sample_topic._2.mkString(\",\"))\n",
      "\n",
      "var sample_members = article_membership.filter(x => x._2 == 6).take(100)\n",
      "sample_members.foreach{x => println(x._1.mkString(\",\"))}"
     ],
     "language": "python",
     "metadata": {},
     "outputs": []
    }
   ],
   "metadata": {}
  }
 ]
}