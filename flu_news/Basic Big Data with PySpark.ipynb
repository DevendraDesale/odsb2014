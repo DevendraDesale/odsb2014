{
 "metadata": {
  "name": ""
 },
 "nbformat": 3,
 "nbformat_minor": 0,
 "worksheets": [
  {
   "cells": [
    {
     "cell_type": "heading",
     "level": 1,
     "metadata": {},
     "source": [
      "Basic Big Data Manipulation with PySpark"
     ]
    },
    {
     "cell_type": "markdown",
     "metadata": {},
     "source": [
      "While much of the work we've done has centered around what we can do with Python and a database, some investigations will require techniques or tools that go beyond the database.  Such investigations are often referred to Big Data analytics, or simply as Big Data.  In general, this is because either the size of the data or the techniques involved stretch beyond the bounds of what can be easily accomplished with a single computer.\n",
      "\n",
      "In this lesson, we'll explore some basic Big Data concepts using [Apache Spark](http://spark.apache.org/) and [Apache Hadoop](http://hadoop.apache.org).  We'll still be using Python, but we'll extend our ability to process data to potentially thousands of computers."
     ]
    },
    {
     "cell_type": "heading",
     "level": 2,
     "metadata": {},
     "source": [
      "Loading Data into the Hadoop File System"
     ]
    },
    {
     "cell_type": "markdown",
     "metadata": {},
     "source": [
      "We'll start by stored some data in Hadoop's distributed filesystem.  In general, we can treat this just like a Linux filesystem, but behind the scenes, our data is being distributed across one or more computers.  This allows us to store truly massive sets of data while still using concepts we're comfortable with.\n",
      "\n",
      "We'll start by making a directory and putting our Wikinews data into it.  The \"!\" in iPython allows us to execute a Linux shell command inside the notebook."
     ]
    },
    {
     "cell_type": "code",
     "collapsed": false,
     "input": [
      "! hdfs dfs -mkdir /user/oracle/flu_news"
     ],
     "language": "python",
     "metadata": {},
     "outputs": [],
     "prompt_number": 3
    },
    {
     "cell_type": "code",
     "collapsed": false,
     "input": [
      "! hdfs dfs -put /home/oracle/odsb2014/flu_news/data/wikinews_data* /user/oracle/flu_news"
     ],
     "language": "python",
     "metadata": {},
     "outputs": [
      {
       "output_type": "stream",
       "stream": "stdout",
       "text": [
        "\n"
       ]
      }
     ],
     "prompt_number": 13
    },
    {
     "cell_type": "code",
     "collapsed": false,
     "input": [
      "! hdfs dfs -ls /user/oracle/flu_news"
     ],
     "language": "python",
     "metadata": {},
     "outputs": [
      {
       "output_type": "stream",
       "stream": "stdout",
       "text": [
        "Found 4 items\r\n",
        "-rw-r--r--   1 oracle oracle    8643301 2014-12-08 19:58 /user/oracle/flu_news/wikinews_data00\r\n",
        "-rw-r--r--   1 oracle oracle    9195142 2014-12-08 19:58 /user/oracle/flu_news/wikinews_data01\r\n",
        "-rw-r--r--   1 oracle oracle   11545160 2014-12-08 19:58 /user/oracle/flu_news/wikinews_data02\r\n",
        "-rw-r--r--   1 oracle oracle    5394406 2014-12-08 19:58 /user/oracle/flu_news/wikinews_data03\r\n"
       ]
      }
     ],
     "prompt_number": 14
    },
    {
     "cell_type": "heading",
     "level": 2,
     "metadata": {},
     "source": [
      "Working with RDDs"
     ]
    },
    {
     "cell_type": "markdown",
     "metadata": {},
     "source": [
      "Now we'll get back to Python and start to work with the basics of Apache Spark.  We're going to deal with two concepts:\n",
      "\n",
      "+ The Spark Context \n",
      "+ Resilient Distributed Datasets (*RDD* for short)\n",
      "\n",
      "The Spark Context is the object through which we bridge our programs with the computing cluster that Spark provides.  It's available in our environment as the variable `sc`.\n",
      "\n",
      "RDDs are the core unit of data in Spark.  RDDs represent data that's distributed across computers, much like Hadoop's filesystem.  Again, one of the central concepts is that we can interact with these massively distributed sets of data as if they were local to our computer.\n",
      "\n",
      "Let's start by loading our Wikinews data as a textfile and parsing the json contained within.  Notice that `sc.textFile` loads the data from the Hadoop filesystem into an RDD.  From there, we can use the `map` operator to apply a function to every line of the textfile."
     ]
    },
    {
     "cell_type": "code",
     "collapsed": false,
     "input": [
      "import json\n",
      "news_rdd = sc.textFile(\"hdfs://localhost:8020/user/oracle/flu_news\")"
     ],
     "language": "python",
     "metadata": {},
     "outputs": [],
     "prompt_number": 1
    },
    {
     "cell_type": "code",
     "collapsed": false,
     "input": [
      "news_json = news_rdd.map(lambda x: json.loads(x))\n",
      "news_json.take(2)"
     ],
     "language": "python",
     "metadata": {},
     "outputs": [
      {
       "metadata": {},
       "output_type": "pyout",
       "prompt_number": 2,
       "text": [
        "[{u'byline': u'{{Main page header}}',\n",
        "  u'date': u'2014-05-18',\n",
        "  u'fulltext': u'\\xbb More Wikinews stories</span></span>  __NOEDITSECTION__  __NOTOC__            bg:\\u041d\\u0430\\u0447\\u0430\\u043b\\u043d\\u0430 \\u0441\\u0442\\u0440\\u0430\\u043d\\u0438\\u0446\\u0430  bs:Po\\u010detna strana  ca:Portada  cs:Wikizpr\\xe1vy:Hlavn\\xed strana  de:Hauptseite        fa:\\u0635\\u0641\\u062d\\u0647\\u0654 \\u0627\\u0635\\u0644\\u06cc  fi:Etusivu  fr:Accueil  he:\\u05e2\\u05de\\u05d5\\u05d3 \\u05e8\\u05d0\\u05e9\\u05d9    ja:\\u30e1\\u30a4\\u30f3\\u30da\\u30fc\\u30b8  ko:\\ub300\\ubb38  no:Forside          sq:Faqja Kryesore  sr:\\u0413\\u043b\\u0430\\u0432\\u043d\\u0430 \\u0441\\u0442\\u0440\\u0430\\u043d\\u0430  sv:Huvudsida        uk:\\u0413\\u043e\\u043b\\u043e\\u0432\\u043d\\u0430  zh:Wikinews:\\u9996\\u9875',\n",
        "  u'title': u'Main Page'},\n",
        " {u'byline': u'',\n",
        "  u'date': u'2012-08-07',\n",
        "  u'fulltext': u'#REDIRECT Wikinews:Upload media',\n",
        "  u'title': u'Upload media'}]"
       ]
      }
     ],
     "prompt_number": 2
    },
    {
     "cell_type": "markdown",
     "metadata": {},
     "source": [
      "We can see that we're getting JSON documents for each article in the dataset.  But how many of these have \"flu\" in the title?  We can find this quickly by creating a new RDD that contains only titles containing \"flu.\"  After that, we can use RDDs built-in `count` function to find out how many records we have.\n",
      "\n",
      "Spark RDDs have what we refer to as *lineage*.  That is, each RDD is defined by the sequence of RDD operations which defined it.  In this case, `flu_headlines` is an RDD descended from the RDD generated by applying `x['title']` to each record in `news_json`."
     ]
    },
    {
     "cell_type": "code",
     "collapsed": false,
     "input": [
      "flu_headlines = news_json.map(lambda x: x['title']).filter(lambda x: \" flu \" in x)\n",
      "print \"# flu headlines\", flu_headlines.count()"
     ],
     "language": "python",
     "metadata": {},
     "outputs": [
      {
       "output_type": "stream",
       "stream": "stdout",
       "text": [
        "# flu headlines "
       ]
      },
      {
       "output_type": "stream",
       "stream": "stdout",
       "text": [
        "128\n"
       ]
      }
     ],
     "prompt_number": 4
    },
    {
     "cell_type": "markdown",
     "metadata": {},
     "source": [
      "What about news stories which mention the flu?  We could look at the `fulltext` field to find out how many stories mention the flu.  Additionally, we can use the `cache` method to place the set of stories about the flu in memory for faster access."
     ]
    },
    {
     "cell_type": "code",
     "collapsed": false,
     "input": [
      "flu_stories = news_json.map(lambda x: x['fulltext']).filter(lambda x: \" flu \" in x)\n",
      "flu_stories.cache()\n",
      "print \"# of flu stories\", flu_stories.count()"
     ],
     "language": "python",
     "metadata": {},
     "outputs": [
      {
       "output_type": "stream",
       "stream": "stdout",
       "text": [
        "# of flu stories "
       ]
      },
      {
       "output_type": "stream",
       "stream": "stdout",
       "text": [
        "156\n"
       ]
      }
     ],
     "prompt_number": 5
    },
    {
     "cell_type": "markdown",
     "metadata": {},
     "source": [
      "So, what are these stories that mention the flu about?  Perhaps if we counted the words in them, we could determine if the stories were about the flu, disease, or just mention it.\n",
      "\n",
      "Counting words is a canonical Big Data activity, so let's go ahead and do it.  Our `word_count` RDD is constructed by \n",
      "\n",
      "+ Splitting each story into its constituent words and combining all of the words into a single \"bag.\"\n",
      "+ Turning each word in the bag into a *tuple* of the form `(word, 1)`\n",
      "+ *Reducing* each word using a summation.  Reducing will group the data *by word* and apply a combining function to the members of the group."
     ]
    },
    {
     "cell_type": "code",
     "collapsed": false,
     "input": [
      "word_count = flu_stories.flatMap(lambda x: x.split()).map(lambda x: (x,1)).reduceByKey(lambda x,y: x+y)\n",
      "word_count= word_count.sortBy(lambda x:x[1], ascending=False)\n",
      "word_count.take(10)"
     ],
     "language": "python",
     "metadata": {},
     "outputs": [
      {
       "metadata": {},
       "output_type": "pyout",
       "prompt_number": 6,
       "text": [
        "[(u'the', 2344),\n",
        " (u'of', 1324),\n",
        " (u'to', 974),\n",
        " (u'in', 956),\n",
        " (u'and', 793),\n",
        " (u'a', 595),\n",
        " (u'that', 494),\n",
        " (u'The', 365),\n",
        " (u'have', 359),\n",
        " (u'is', 349)]"
       ]
      }
     ],
     "prompt_number": 6
    },
    {
     "cell_type": "markdown",
     "metadata": {},
     "source": [
      "That doesn't appear terribly useful.  Are these stories really about \"the,\" \"of,\" and \"to?\"  Let's use Pandas to get a sense of how frequently these words appear."
     ]
    },
    {
     "cell_type": "code",
     "collapsed": false,
     "input": [
      "import pandas as pd\n",
      "words_counted = pd.DataFrame(word_count.collect(), columns=[\"word\", \"freq\"])\n",
      "words_counted[:10]"
     ],
     "language": "python",
     "metadata": {},
     "outputs": [
      {
       "html": [
        "<div style=\"max-height:1000px;max-width:1500px;overflow:auto;\">\n",
        "<table border=\"1\" class=\"dataframe\">\n",
        "  <thead>\n",
        "    <tr style=\"text-align: right;\">\n",
        "      <th></th>\n",
        "      <th>word</th>\n",
        "      <th>freq</th>\n",
        "    </tr>\n",
        "  </thead>\n",
        "  <tbody>\n",
        "    <tr>\n",
        "      <th>0</th>\n",
        "      <td>  the</td>\n",
        "      <td> 2344</td>\n",
        "    </tr>\n",
        "    <tr>\n",
        "      <th>1</th>\n",
        "      <td>   of</td>\n",
        "      <td> 1324</td>\n",
        "    </tr>\n",
        "    <tr>\n",
        "      <th>2</th>\n",
        "      <td>   to</td>\n",
        "      <td>  974</td>\n",
        "    </tr>\n",
        "    <tr>\n",
        "      <th>3</th>\n",
        "      <td>   in</td>\n",
        "      <td>  956</td>\n",
        "    </tr>\n",
        "    <tr>\n",
        "      <th>4</th>\n",
        "      <td>  and</td>\n",
        "      <td>  793</td>\n",
        "    </tr>\n",
        "    <tr>\n",
        "      <th>5</th>\n",
        "      <td>    a</td>\n",
        "      <td>  595</td>\n",
        "    </tr>\n",
        "    <tr>\n",
        "      <th>6</th>\n",
        "      <td> that</td>\n",
        "      <td>  494</td>\n",
        "    </tr>\n",
        "    <tr>\n",
        "      <th>7</th>\n",
        "      <td>  The</td>\n",
        "      <td>  365</td>\n",
        "    </tr>\n",
        "    <tr>\n",
        "      <th>8</th>\n",
        "      <td> have</td>\n",
        "      <td>  359</td>\n",
        "    </tr>\n",
        "    <tr>\n",
        "      <th>9</th>\n",
        "      <td>   is</td>\n",
        "      <td>  349</td>\n",
        "    </tr>\n",
        "  </tbody>\n",
        "</table>\n",
        "</div>"
       ],
       "metadata": {},
       "output_type": "pyout",
       "prompt_number": 7,
       "text": [
        "   word  freq\n",
        "0   the  2344\n",
        "1    of  1324\n",
        "2    to   974\n",
        "3    in   956\n",
        "4   and   793\n",
        "5     a   595\n",
        "6  that   494\n",
        "7   The   365\n",
        "8  have   359\n",
        "9    is   349"
       ]
      }
     ],
     "prompt_number": 7
    },
    {
     "cell_type": "markdown",
     "metadata": {},
     "source": [
      "Intuitively, this makes sense.  The words that appear most frequently are those we use to build sentences.  However, it doesn't\n",
      "tell us anything about what the articles are about.  Perhaps if we plot the data, we can determine how important the flu is within\n",
      "our set of news articles."
     ]
    },
    {
     "cell_type": "code",
     "collapsed": false,
     "input": [
      "%matplotlib inline\n",
      "import matplotlib as mpl\n",
      "import matplotlib.pyplot as plt\n",
      "import numpy as np\n",
      "fig, ax = plt.subplots(nrows=1, ncols=1, figsize=(16,12));\n",
      "words_counted['freq'][:100].plot(kind=\"bar\")\n",
      "ax.set_xticklabels(words_counted['word'][:100]);"
     ],
     "language": "python",
     "metadata": {},
     "outputs": [
      {
       "metadata": {},
       "output_type": "display_data",
       "png": "[encoded data removed]",
       "text": [
        "<matplotlib.figure.Figure at 0x3344410>"
       ]
      }
     ],
     "prompt_number": 8
    },
    {
     "cell_type": "heading",
     "level": 2,
     "metadata": {},
     "source": [
      "Summary"
     ]
    },
    {
     "cell_type": "markdown",
     "metadata": {},
     "source": [
      "We can certainly see that our bag of flu stories is probably about the flu.  But it's difficult to tell what the articles are actually *about*.  We'll deal with solving this problem in some of the upcoming lessons.  However, we have managed to learn a few things about working with Big Data.  Specifically, we now now how to \n",
      "\n",
      "+ Load data into HDFS, the Hadoop file system\n",
      "+ Access and transform that data in Spark\n",
      "+ Count words (a must for aspiring data scientists)!\n",
      "+ Integrate Spark with Pandas and Matplotlib using our notebook"
     ]
    },
    {
     "cell_type": "code",
     "collapsed": false,
     "input": [],
     "language": "python",
     "metadata": {},
     "outputs": []
    }
   ],
   "metadata": {}
  }
 ]
}